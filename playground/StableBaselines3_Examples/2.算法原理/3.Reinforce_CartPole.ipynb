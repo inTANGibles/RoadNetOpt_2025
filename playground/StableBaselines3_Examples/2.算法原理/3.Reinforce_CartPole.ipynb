{
 "cells": [
  {
   "cell_type": "code",
   "execution_count": 1,
   "metadata": {},
   "outputs": [
    {
     "data": {
      "text/plain": [
       "array([-0.0109372 ,  0.0257944 ,  0.00579614, -0.01564281], dtype=float32)"
      ]
     },
     "execution_count": 1,
     "metadata": {},
     "output_type": "execute_result"
    }
   ],
   "source": [
    "import gym\n",
    "\n",
    "\n",
    "#定义环境\n",
    "class MyWrapper(gym.Wrapper):\n",
    "\n",
    "    def __init__(self):\n",
    "        env = gym.make('CartPole-v1', render_mode='rgb_array')\n",
    "        super().__init__(env)\n",
    "        self.env = env\n",
    "        self.step_n = 0\n",
    "\n",
    "    def reset(self):\n",
    "        state, _ = self.env.reset()\n",
    "        self.step_n = 0\n",
    "        return state\n",
    "\n",
    "    def step(self, action):\n",
    "        state, reward, done, _, info = self.env.step(action)\n",
    "\n",
    "        #一局游戏最多走N步\n",
    "        self.step_n += 1\n",
    "        if self.step_n >= 200:\n",
    "            done = True\n",
    "\n",
    "        return state, reward, done, info\n",
    "\n",
    "\n",
    "env = MyWrapper()\n",
    "\n",
    "env.reset()"
   ]
  },
  {
   "cell_type": "code",
   "execution_count": 2,
   "metadata": {},
   "outputs": [
    {
     "data": {
      "image/png": "[encoded data removed]",
      "text/plain": [
       "<Figure size 300x300 with 1 Axes>"
      ]
     },
     "metadata": {},
     "output_type": "display_data"
    }
   ],
   "source": [
    "from matplotlib import pyplot as plt\n",
    "\n",
    "%matplotlib inline\n",
    "\n",
    "\n",
    "#打印游戏\n",
    "def show():\n",
    "    plt.figure(figsize=(3, 3))\n",
    "    plt.imshow(env.render())\n",
    "    plt.show()\n",
    "\n",
    "\n",
    "show()"
   ]
  },
  {
   "cell_type": "code",
   "execution_count": 3,
   "metadata": {
    "id": "POOOk15_K6KA"
   },
   "outputs": [
    {
     "name": "stdout",
     "output_type": "stream",
     "text": [
      "env.observation_space= Box([-4.8000002e+00 -3.4028235e+38 -4.1887903e-01 -3.4028235e+38], [4.8000002e+00 3.4028235e+38 4.1887903e-01 3.4028235e+38], (4,), float32)\n",
      "env.action_space= Discrete(2)\n",
      "state= [-0.0293525  -0.04349425  0.02145252 -0.02283522]\n",
      "action= 0\n",
      "next_state= [-0.03022238 -0.23891717  0.02099581  0.27653828]\n",
      "reward= 1.0\n",
      "done= False\n"
     ]
    }
   ],
   "source": [
    "#认识游戏环境\n",
    "def test_env():\n",
    "    print('env.observation_space=', env.observation_space)\n",
    "    print('env.action_space=', env.action_space)\n",
    "\n",
    "    state = env.reset()\n",
    "    action = env.action_space.sample()\n",
    "    next_state, reward, done, _ = env.step(action)\n",
    "\n",
    "    print('state=', state)\n",
    "    print('action=', action)\n",
    "    print('next_state=', next_state)\n",
    "    print('reward=', reward)\n",
    "    print('done=', done)\n",
    "\n",
    "\n",
    "test_env()"
   ]
  },
  {
   "cell_type": "code",
   "execution_count": 3,
   "metadata": {},
   "outputs": [
    {
     "name": "stdout",
     "output_type": "stream",
     "text": [
      "action= tensor(1)\n",
      "log_prob= tensor(-1.6094)\n"
     ]
    }
   ],
   "source": [
    "#测试torch.distributions.Categorical\n",
    "def test_dist():\n",
    "    import torch\n",
    "\n",
    "    #创建分布\n",
    "    dist = torch.distributions.Categorical(torch.FloatTensor([0.1, 0.2, 0.7]))\n",
    "\n",
    "    #从分布中采样\n",
    "    action = dist.sample()\n",
    "    print('action=', action)\n",
    "\n",
    "    #计算概率的log\n",
    "    log_prob = dist.log_prob(action)\n",
    "    print('log_prob=', log_prob)\n",
    "    \n",
    "    \n",
    "\n",
    "\n",
    "test_dist()"
   ]
  },
  {
   "cell_type": "code",
   "execution_count": 5,
   "metadata": {
    "id": "Ho_UHf49N9i4"
   },
   "outputs": [
    {
     "data": {
      "text/plain": [
       "(1, tensor([-0.3408], grad_fn=<SqueezeBackward1>))"
      ]
     },
     "execution_count": 5,
     "metadata": {},
     "output_type": "execute_result"
    }
   ],
   "source": [
    "import torch\n",
    "\n",
    "#定义模型\n",
    "class Model(torch.nn.Module):\n",
    "\n",
    "    def __init__(self):\n",
    "        super().__init__()\n",
    "        self.sequential = torch.nn.Sequential(torch.nn.Linear(4, 16),\n",
    "                                              torch.nn.ReLU(),\n",
    "                                              torch.nn.Linear(16, 2),\n",
    "                                              torch.nn.Softmax(dim=1))\n",
    "\n",
    "    def forward(self, state):\n",
    "        #[4] -> [1, 4]\n",
    "        state = torch.FloatTensor(state).unsqueeze(0)\n",
    "\n",
    "        #计算当前state下各个动作的概率\n",
    "        #[1, 4] -> [1, 2]\n",
    "        probs = self.sequential(state)\n",
    "\n",
    "        #以概率创建分布\n",
    "        dist = torch.distributions.Categorical(probs)\n",
    "\n",
    "        #在概率中采样,获得action\n",
    "        #scala\n",
    "        action = dist.sample()\n",
    "\n",
    "        #求动作的概率对数\n",
    "        #scala\n",
    "        log_prob = dist.log_prob(action)\n",
    "\n",
    "        return action.item(), log_prob\n",
    "\n",
    "\n",
    "model = Model()\n",
    "model([1, 2, 3, 4])"
   ]
  },
  {
   "cell_type": "code",
   "execution_count": 6,
   "metadata": {},
   "outputs": [
    {
     "name": "stdout",
     "output_type": "stream",
     "text": [
      "0.5 693.1473388671875\n",
      "0.9 294.32183837890625\n",
      "0.9999 0.100021593272686\n"
     ]
    }
   ],
   "source": [
    "#测试概率和loss之间的关系\n",
    "def test_loss(p0):\n",
    "    #以概率创建分布\n",
    "    dist = torch.distributions.Categorical(torch.FloatTensor([p0, 1 - p0]))\n",
    "\n",
    "    log_probs = []\n",
    "    for _ in range(1000):\n",
    "        #在概率中采样,获得action\n",
    "        action = dist.sample()\n",
    "\n",
    "        #求动作的概率对数\n",
    "        log_prob = dist.log_prob(action)\n",
    "\n",
    "        log_probs.append(log_prob)\n",
    "\n",
    "    #动作的概率,取值是0-1,取对数后是-inf到0,符号取反之后是0到inf\n",
    "    #这意味着loss越接近0,动作的概率越高,loss越大,动作的概率越低\n",
    "    #动作本身也是从概率采样而来,所以概率越倾斜,loss越小.\n",
    "    #也就是说[0.5,0.5]将导致大loss, [0.0,1.0]将导致小loss\n",
    "    log_probs = torch.FloatTensor(log_probs)\n",
    "    log_probs = -log_probs\n",
    "    loss = log_probs.sum().item()\n",
    "\n",
    "    return loss\n",
    "\n",
    "\n",
    "for i in [0.5, 0.9, 0.9999]:\n",
    "    print(i, test_loss(i))"
   ]
  },
  {
   "cell_type": "code",
   "execution_count": 7,
   "metadata": {},
   "outputs": [
    {
     "data": {
      "text/plain": [
       "20.65"
      ]
     },
     "execution_count": 7,
     "metadata": {},
     "output_type": "execute_result"
    }
   ],
   "source": [
    "from IPython import display\n",
    "import random\n",
    "\n",
    "\n",
    "#测试一局游戏,得到reward_sum\n",
    "def test(play=False):\n",
    "    state = env.reset()\n",
    "    reward_sum = 0\n",
    "    done = False\n",
    "\n",
    "    while not done:\n",
    "        action, _ = model(state)\n",
    "        state, reward, done, _ = env.step(action)\n",
    "        reward_sum += reward\n",
    "\n",
    "        if play and random.random() < 0.2:\n",
    "            display.clear_output(wait=True)\n",
    "            show()\n",
    "\n",
    "    return reward_sum\n",
    "\n",
    "\n",
    "sum([test() for _ in range(20)]) / 20"
   ]
  },
  {
   "cell_type": "code",
   "execution_count": 8,
   "metadata": {
    "id": "NCNvyElRStWG"
   },
   "outputs": [],
   "source": [
    "#训练\n",
    "def train():\n",
    "    optimizer = torch.optim.Adam(model.parameters(), lr=1e-3)\n",
    "\n",
    "    #训练N局游戏\n",
    "    for i in range(5000):\n",
    "        #得到一局游戏的数据\n",
    "        rewards = []\n",
    "        log_probs = []\n",
    "        state = env.reset()\n",
    "        done = False\n",
    "        while not done:\n",
    "            action, log_prob = model(state)\n",
    "            state, reward, done, _ = env.step(action)\n",
    "\n",
    "            #记录下rewards和log_probs\n",
    "            rewards.append(reward)\n",
    "            log_probs.append(log_prob)\n",
    "\n",
    "        #[steps]\n",
    "        rewards = torch.FloatTensor(rewards)\n",
    "        #[steps]\n",
    "        log_probs = torch.cat(log_probs)\n",
    "\n",
    "        #对rewards进行decay后求和\n",
    "        decay = torch.arange(len(rewards))\n",
    "        #这里gamma写1.0意味着不decay\n",
    "        decay = 1.0**decay\n",
    "        rewards *= decay\n",
    "        rewards = rewards.sum()\n",
    "\n",
    "        #考虑rewards和log_probs两部分loss,让两者相乘即可\n",
    "        loss = rewards * -log_probs.sum()\n",
    "\n",
    "        optimizer.zero_grad()\n",
    "        loss.backward()\n",
    "        optimizer.step()\n",
    "\n",
    "        if i % 200 == 0:\n",
    "            print(i, sum([test() for _ in range(5)]) / 5)\n",
    "\n",
    "    torch.save(model, 'save/3.Reinforce_CartPole')\n",
    "\n",
    "\n",
    "#train()"
   ]
  },
  {
   "cell_type": "code",
   "execution_count": 13,
   "metadata": {
    "id": "3FamHmxyhBEU"
   },
   "outputs": [
    {
     "data": {
      "image/png": "[encoded data removed]",
      "text/plain": [
       "<Figure size 300x300 with 1 Axes>"
      ]
     },
     "metadata": {},
     "output_type": "display_data"
    },
    {
     "data": {
      "text/plain": [
       "200.0"
      ]
     },
     "execution_count": 13,
     "metadata": {},
     "output_type": "execute_result"
    }
   ],
   "source": [
    "model = torch.load('save/3.Reinforce_CartPole')\n",
    "\n",
    "#试玩\n",
    "test(play=True)"
   ]
  }
 ],
 "metadata": {
  "accelerator": "GPU",
  "colab": {
   "authorship_tag": "ABX9TyPoxzAc/iqqWPY8sm+LcHBH",
   "collapsed_sections": [],
   "include_colab_link": true,
   "name": "unit5",
   "private_outputs": true,
   "provenance": []
  },
  "gpuClass": "standard",
  "kernelspec": {
   "display_name": "Python 3 (ipykernel)",
   "language": "python",
   "name": "python3"
  },
  "language_info": {
   "codemirror_mode": {
    "name": "ipython",
    "version": 3
   },
   "file_extension": ".py",
   "mimetype": "text/x-python",
   "name": "python",
   "nbconvert_exporter": "python",
   "pygments_lexer": "ipython3",
   "version": "3.9.15"
  }
 },
 "nbformat": 4,
 "nbformat_minor": 1
}
