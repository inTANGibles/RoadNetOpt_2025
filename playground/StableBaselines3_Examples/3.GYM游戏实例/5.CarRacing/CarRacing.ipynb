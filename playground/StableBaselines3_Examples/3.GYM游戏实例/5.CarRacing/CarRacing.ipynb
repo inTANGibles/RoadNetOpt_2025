{
 "cells": [
  {
   "cell_type": "markdown",
   "source": [
    "## Create Gym Env"
   ],
   "metadata": {
    "collapsed": false
   }
  },
  {
   "cell_type": "code",
   "execution_count": 1,
   "outputs": [],
   "source": [
    "import gymnasium as gym  #\n",
    "import numpy as np\n",
    "\n",
    "#定义环境\n",
    "class MyWrapper(gym.Wrapper):\n",
    "\n",
    "    def __init__(self):\n",
    "        _env = gym.make('CarRacing-v2',\n",
    "                       continuous=True,\n",
    "                       render_mode='rgb_array')\n",
    "        super().__init__(_env)\n",
    "        self.env = _env\n",
    "        self.step_n = 0\n",
    "\n",
    "    def reset(self, seed=None, options=None):\n",
    "        _state, _info = self.env.reset()\n",
    "        self.step_n = 0\n",
    "        return _state, _info\n",
    "\n",
    "    def step(self, action):\n",
    "        _state, _reward, _done, _truncated, _info = self.env.step(action)\n",
    "        self.step_n += 1\n",
    "        if self.step_n >= 400:\n",
    "            _done = True\n",
    "        return _state, _reward, _done, _truncated, _info\n",
    "\n",
    "\n",
    "env = MyWrapper()"
   ],
   "metadata": {
    "collapsed": false
   }
  },
  {
   "cell_type": "code",
   "execution_count": 2,
   "outputs": [
    {
     "name": "stdout",
     "output_type": "stream",
     "text": [
      "env.observation_space= Box(0, 255, (96, 96, 3), uint8)\n",
      "env.action_space= Box([-1.  0.  0.], 1.0, (3,), float32)\n",
      "state.shape= (96, 96, 3) , min= 0 , max= 228\n",
      "action= [0.44406217 0.27327466 0.89147556]\n",
      "next_state.shape= (96, 96, 3) , min= 0 , max= 253\n",
      "reward= 6.917543859649123\n",
      "done= False\n",
      "truncated= False\n",
      "info= {}\n"
     ]
    }
   ],
   "source": [
    "print('env.observation_space=', env.observation_space)\n",
    "print('env.action_space=', env.action_space)\n",
    "\n",
    "state, _ = env.reset()\n",
    "action = env.action_space.sample()\n",
    "next_state, reward, done, truncated, info = env.step(action)\n",
    "\n",
    "\n",
    "print(\"state.shape=\",state.shape, \", min=\", np.min(state), \", max=\", np.max(state))\n",
    "print('action=', action)\n",
    "print(\"next_state.shape=\",next_state.shape, \", min=\", np.min(next_state), \", max=\", np.max(next_state))\n",
    "print('reward=', reward)\n",
    "print('done=', done)\n",
    "print('truncated=', truncated)\n",
    "print('info=', info)"
   ],
   "metadata": {
    "collapsed": false,
    "ExecuteTime": {
     "start_time": "2024-04-15T21:55:27.463205Z",
     "end_time": "2024-04-15T21:55:27.493017Z"
    }
   }
  },
  {
   "cell_type": "markdown",
   "source": [
    "## Make Vec Env\n",
    "矢量化环境是一种将多个独立环境堆叠到单个环境中的方法。它允许我们在每个步骤的环境上训练它，而不是在n每个步骤的 1 个环境上训练 RL 代理。因此，actions传递给环境的现在是一个向量（维度为n）。observations和rewards情节结束信号 ( )的情况相同dones。在非数组观测空间（例如Dict或 ）的情况下Tuple，不同的子空间可能具有不同的形状，子观测值是向量（维度为n）。\n",
    "\n",
    "see [vecenv-api-vs-gym-api](https://stable-baselines3.readthedocs.io/en/master/guide/vec_envs.html#vecenv-api-vs-gym-api) for more details"
   ],
   "metadata": {
    "collapsed": false
   }
  },
  {
   "cell_type": "code",
   "execution_count": 3,
   "outputs": [
    {
     "name": "stdout",
     "output_type": "stream",
     "text": [
      "(8, 96, 96, 3)\n"
     ]
    }
   ],
   "source": [
    "from stable_baselines3.common.env_util import make_vec_env\n",
    "\n",
    "vec_env=make_vec_env(MyWrapper, n_envs=8)\n",
    "state = vec_env.reset()\n",
    "print(state.shape)"
   ],
   "metadata": {
    "collapsed": false,
    "ExecuteTime": {
     "start_time": "2024-04-15T21:55:29.893512Z",
     "end_time": "2024-04-15T21:55:31.825900Z"
    }
   }
  },
  {
   "cell_type": "code",
   "execution_count": 4,
   "outputs": [],
   "source": [
    "import torch\n",
    "from stable_baselines3.common.torch_layers import BaseFeaturesExtractor\n",
    "from gymnasium import spaces\n",
    "\n",
    "from stable_baselines3.common.preprocessing import get_flattened_obs_dim, is_image_space\n",
    "from stable_baselines3.common.type_aliases import TensorDict\n",
    "from stable_baselines3.common.utils import get_device\n",
    "from typing import Dict, List, Tuple, Type, Union\n",
    "\n",
    "import gymnasium as gym\n",
    "import torch as th\n",
    "from gymnasium import spaces\n",
    "from torch import nn\n",
    "#自定义特征抽取层\n",
    "class NatureCNN(BaseFeaturesExtractor):\n",
    "    \"\"\"\n",
    "    CNN from DQN Nature paper:\n",
    "        Mnih, Volodymyr, et al.\n",
    "        \"Human-level control through deep reinforcement learning.\"\n",
    "        Nature 518.7540 (2015): 529-533.\n",
    "\n",
    "    :param observation_space:\n",
    "    :param features_dim: Number of features extracted.\n",
    "        This corresponds to the number of unit for the last layer.\n",
    "    :param normalized_image: Whether to assume that the image is already normalized\n",
    "        or not (this disables dtype and bounds checks): when True, it only checks that\n",
    "        the space is a Box and has 3 dimensions.\n",
    "        Otherwise, it checks that it has expected dtype (uint8) and bounds (values in [0, 255]).\n",
    "    \"\"\"\n",
    "\n",
    "    def __init__(\n",
    "        self,\n",
    "        observation_space: gym.Space,\n",
    "        features_dim: int = 512,\n",
    "        normalized_image: bool = False,\n",
    "    ) -> None:\n",
    "        assert isinstance(observation_space, spaces.Box), (\n",
    "            \"NatureCNN must be used with a gym.spaces.Box \",\n",
    "            f\"observation space, not {observation_space}\",\n",
    "        )\n",
    "        super().__init__(observation_space, features_dim)\n",
    "        # We assume CxHxW images (channels first)\n",
    "        # Re-ordering will be done by pre-preprocessing or wrapper\n",
    "        assert is_image_space(observation_space, check_channels=False, normalized_image=normalized_image), (\n",
    "            \"You should use NatureCNN \"\n",
    "            f\"only with images not with {observation_space}\\n\"\n",
    "            \"(you are probably using `CnnPolicy` instead of `MlpPolicy` or `MultiInputPolicy`)\\n\"\n",
    "            \"If you are using a custom environment,\\n\"\n",
    "            \"please check it using our env checker:\\n\"\n",
    "            \"https://stable-baselines3.readthedocs.io/en/master/common/env_checker.html.\\n\"\n",
    "            \"If you are using `VecNormalize` or already normalized channel-first images \"\n",
    "            \"you should pass `normalize_images=False`: \\n\"\n",
    "            \"https://stable-baselines3.readthedocs.io/en/master/guide/custom_env.html\"\n",
    "        )\n",
    "        n_input_channels = observation_space.shape[0]\n",
    "        self.cnn = nn.Sequential(\n",
    "            nn.Conv2d(n_input_channels, 32, kernel_size=8, stride=4, padding=0),\n",
    "            nn.ReLU(),\n",
    "            nn.Conv2d(32, 64, kernel_size=4, stride=2, padding=0),\n",
    "            nn.ReLU(),\n",
    "            nn.Conv2d(64, 64, kernel_size=3, stride=1, padding=0),\n",
    "            nn.ReLU(),\n",
    "            nn.Flatten(),\n",
    "        )\n",
    "\n",
    "        # Compute shape by doing one forward pass\n",
    "        with th.no_grad():\n",
    "            n_flatten = self.cnn(th.as_tensor(observation_space.sample()[None]).float()).shape[1]\n",
    "\n",
    "        self.linear = nn.Sequential(nn.Linear(n_flatten, features_dim), nn.ReLU())\n",
    "\n",
    "    def forward(self, observations: th.Tensor) -> th.Tensor:\n",
    "        return self.linear(self.cnn(observations))"
   ],
   "metadata": {
    "collapsed": false,
    "ExecuteTime": {
     "start_time": "2024-04-15T21:55:34.520049Z",
     "end_time": "2024-04-15T21:55:34.527272Z"
    }
   }
  },
  {
   "cell_type": "code",
   "execution_count": 5,
   "outputs": [
    {
     "data": {
      "text/plain": "<Figure size 400x400 with 1 Axes>",
      "image/png": "[encoded data removed]"
     },
     "metadata": {},
     "output_type": "display_data"
    }
   ],
   "source": [
    "from matplotlib import pyplot as plt\n",
    "\n",
    "%matplotlib inline\n",
    "\n",
    "#打印游戏\n",
    "def show():\n",
    "    plt.figure(figsize=(4, 4))\n",
    "    plt.imshow(env.render())\n",
    "    plt.show()\n",
    "\n",
    "\n",
    "show()"
   ],
   "metadata": {
    "collapsed": false,
    "ExecuteTime": {
     "start_time": "2024-04-15T21:55:36.095225Z",
     "end_time": "2024-04-15T21:55:36.252481Z"
    }
   }
  },
  {
   "cell_type": "code",
   "execution_count": 7,
   "outputs": [
    {
     "name": "stdout",
     "output_type": "stream",
     "text": [
      "Using cuda device\n",
      "Wrapping the env in a VecTransposeImage.\n"
     ]
    },
    {
     "data": {
      "text/plain": "<stable_baselines3.ddpg.ddpg.DDPG at 0x236ec60b1c0>"
     },
     "execution_count": 7,
     "metadata": {},
     "output_type": "execute_result"
    }
   ],
   "source": [
    "from stable_baselines3 import DDPG\n",
    "from stable_baselines3.common.env_util import make_vec_env\n",
    "\n",
    "#初始化模型\n",
    "model = DDPG(\n",
    "    policy='MlpPolicy',\n",
    "    env=make_vec_env(MyWrapper, n_envs=1),  #使用N个环境同时训练\n",
    "    learning_rate=1e-3,\n",
    "    buffer_size=10000,  #replay_buff_size\n",
    "    learning_starts=100,  #从N步以后开始训练\n",
    "    batch_size=100,  #一次采样数据量\n",
    "    tau=0.005,  #target网络每次软更新量\n",
    "    gamma=0.9,\n",
    "    train_freq=(20, 'step'),  #训练频率\n",
    "    verbose=1,\n",
    "    tensorboard_log=\"./tensor_board_ddpg_car_racing_v2/\",\n",
    "    policy_kwargs={\n",
    "                    'features_extractor_class': NatureCNN,\n",
    "                    'features_extractor_kwargs': {\n",
    "                        'features_dim': 512\n",
    "                    },\n",
    "                }\n",
    "    )\n",
    "\n",
    "\n",
    "model"
   ],
   "metadata": {
    "collapsed": false,
    "ExecuteTime": {
     "start_time": "2024-04-15T21:56:20.034782Z",
     "end_time": "2024-04-15T21:56:20.400645Z"
    }
   }
  },
  {
   "cell_type": "code",
   "execution_count": 8,
   "outputs": [
    {
     "name": "stderr",
     "output_type": "stream",
     "text": [
      "C:\\ProgramData\\miniconda3\\envs\\RoadNetOpt\\lib\\site-packages\\stable_baselines3\\common\\evaluation.py:67: UserWarning: Evaluation environment is not wrapped with a ``Monitor`` wrapper. This may result in reporting modified episode lengths and rewards, if other wrappers happen to modify these. Consider wrapping environment first with ``Monitor`` wrapper.\n",
      "  warnings.warn(\n"
     ]
    },
    {
     "data": {
      "text/plain": "(7.069432705640793, 2.5488861799240112)"
     },
     "execution_count": 8,
     "metadata": {},
     "output_type": "execute_result"
    }
   ],
   "source": [
    "from stable_baselines3.common.evaluation import evaluate_policy\n",
    "evaluate_policy(model, env, n_eval_episodes=2, deterministic=False)"
   ],
   "metadata": {
    "collapsed": false,
    "ExecuteTime": {
     "start_time": "2024-04-15T21:56:33.384807Z",
     "end_time": "2024-04-15T21:56:40.884025Z"
    }
   }
  },
  {
   "cell_type": "code",
   "execution_count": 9,
   "outputs": [
    {
     "data": {
      "text/plain": "<Figure size 400x400 with 1 Axes>",
      "image/png": "[encoded data removed]"
     },
     "metadata": {},
     "output_type": "display_data"
    },
    {
     "name": "stdout",
     "output_type": "stream",
     "text": [
      "0.4984423676012908 400\n"
     ]
    }
   ],
   "source": [
    "from IPython import display\n",
    "def test():\n",
    "    state, _ = env.reset()\n",
    "    reward_sum = []\n",
    "    over = False\n",
    "    while not over:\n",
    "        action, _ = model.predict(state)\n",
    "        state, reward, over, truncated, _ = env.step(action)\n",
    "        reward_sum.append(reward)\n",
    "\n",
    "        if len(reward_sum) % 5 == 0:\n",
    "            display.clear_output(wait=True)\n",
    "            show()\n",
    "\n",
    "    print(sum(reward_sum), len(reward_sum))\n",
    "\n",
    "\n",
    "test()"
   ],
   "metadata": {
    "collapsed": false,
    "ExecuteTime": {
     "start_time": "2024-04-15T21:56:45.066172Z",
     "end_time": "2024-04-15T21:56:54.273060Z"
    }
   }
  },
  {
   "cell_type": "code",
   "execution_count": 10,
   "outputs": [
    {
     "name": "stdout",
     "output_type": "stream",
     "text": [
      "Logging to ./tensor_board_ddpg_car_racing_v2/DDPG_3\n"
     ]
    },
    {
     "data": {
      "text/plain": "Output()",
      "application/vnd.jupyter.widget-view+json": {
       "version_major": 2,
       "version_minor": 0,
       "model_id": "939bde6819d6428b8a210dd24e06dd09"
      }
     },
     "metadata": {},
     "output_type": "display_data"
    },
    {
     "name": "stdout",
     "output_type": "stream",
     "text": [
      "---------------------------------\n",
      "| rollout/           |          |\n",
      "|    ep_len_mean     | 400      |\n",
      "|    ep_rew_mean     | -30.4    |\n",
      "| time/              |          |\n",
      "|    episodes        | 4        |\n",
      "|    fps             | 101      |\n",
      "|    time_elapsed    | 15       |\n",
      "|    total_timesteps | 1600     |\n",
      "| train/             |          |\n",
      "|    actor_loss      | 0.0854   |\n",
      "|    critic_loss     | 0.114    |\n",
      "|    learning_rate   | 0.001    |\n",
      "|    n_updates       | 74       |\n",
      "---------------------------------\n",
      "---------------------------------\n",
      "| rollout/           |          |\n",
      "|    ep_len_mean     | 400      |\n",
      "|    ep_rew_mean     | -31.6    |\n",
      "| time/              |          |\n",
      "|    episodes        | 8        |\n",
      "|    fps             | 100      |\n",
      "|    time_elapsed    | 31       |\n",
      "|    total_timesteps | 3200     |\n",
      "| train/             |          |\n",
      "|    actor_loss      | 0.0117   |\n",
      "|    critic_loss     | 0.121    |\n",
      "|    learning_rate   | 0.001    |\n",
      "|    n_updates       | 154      |\n",
      "---------------------------------\n",
      "---------------------------------\n",
      "| rollout/           |          |\n",
      "|    ep_len_mean     | 400      |\n",
      "|    ep_rew_mean     | -32      |\n",
      "| time/              |          |\n",
      "|    episodes        | 12       |\n",
      "|    fps             | 100      |\n",
      "|    time_elapsed    | 47       |\n",
      "|    total_timesteps | 4800     |\n",
      "| train/             |          |\n",
      "|    actor_loss      | -0.0265  |\n",
      "|    critic_loss     | 0.143    |\n",
      "|    learning_rate   | 0.001    |\n",
      "|    n_updates       | 234      |\n",
      "---------------------------------\n",
      "---------------------------------\n",
      "| rollout/           |          |\n",
      "|    ep_len_mean     | 400      |\n",
      "|    ep_rew_mean     | -32.3    |\n",
      "| time/              |          |\n",
      "|    episodes        | 16       |\n",
      "|    fps             | 100      |\n",
      "|    time_elapsed    | 63       |\n",
      "|    total_timesteps | 6400     |\n",
      "| train/             |          |\n",
      "|    actor_loss      | 0.116    |\n",
      "|    critic_loss     | 0.208    |\n",
      "|    learning_rate   | 0.001    |\n",
      "|    n_updates       | 314      |\n",
      "---------------------------------\n",
      "---------------------------------\n",
      "| rollout/           |          |\n",
      "|    ep_len_mean     | 400      |\n",
      "|    ep_rew_mean     | -32.4    |\n",
      "| time/              |          |\n",
      "|    episodes        | 20       |\n",
      "|    fps             | 100      |\n",
      "|    time_elapsed    | 79       |\n",
      "|    total_timesteps | 8000     |\n",
      "| train/             |          |\n",
      "|    actor_loss      | 0.161    |\n",
      "|    critic_loss     | 0.00499  |\n",
      "|    learning_rate   | 0.001    |\n",
      "|    n_updates       | 394      |\n",
      "---------------------------------\n",
      "---------------------------------\n",
      "| rollout/           |          |\n",
      "|    ep_len_mean     | 400      |\n",
      "|    ep_rew_mean     | -32.5    |\n",
      "| time/              |          |\n",
      "|    episodes        | 24       |\n",
      "|    fps             | 100      |\n",
      "|    time_elapsed    | 95       |\n",
      "|    total_timesteps | 9600     |\n",
      "| train/             |          |\n",
      "|    actor_loss      | 0.2      |\n",
      "|    critic_loss     | 4.92e-05 |\n",
      "|    learning_rate   | 0.001    |\n",
      "|    n_updates       | 474      |\n",
      "---------------------------------\n"
     ]
    },
    {
     "data": {
      "text/plain": "",
      "text/html": "<pre style=\"white-space:pre;overflow-x:auto;line-height:normal;font-family:Menlo,'DejaVu Sans Mono',consolas,'Courier New',monospace\"></pre>\n"
     },
     "metadata": {},
     "output_type": "display_data"
    },
    {
     "data": {
      "text/plain": "\n",
      "text/html": "<pre style=\"white-space:pre;overflow-x:auto;line-height:normal;font-family:Menlo,'DejaVu Sans Mono',consolas,'Courier New',monospace\">\n</pre>\n"
     },
     "metadata": {},
     "output_type": "display_data"
    },
    {
     "data": {
      "text/plain": "<stable_baselines3.ddpg.ddpg.DDPG at 0x236ec60b1c0>"
     },
     "execution_count": 10,
     "metadata": {},
     "output_type": "execute_result"
    }
   ],
   "source": [
    "#训练\n",
    "model.learn(10000,\n",
    "            progress_bar=True)\n"
   ],
   "metadata": {
    "collapsed": false,
    "ExecuteTime": {
     "start_time": "2024-04-15T21:57:02.926572Z",
     "end_time": "2024-04-15T21:58:42.358716Z"
    }
   }
  },
  {
   "cell_type": "code",
   "execution_count": 11,
   "outputs": [],
   "source": [
    "%load_ext tensorboard"
   ],
   "metadata": {
    "collapsed": false,
    "ExecuteTime": {
     "start_time": "2024-04-15T22:02:14.643906Z",
     "end_time": "2024-04-15T22:02:14.674447Z"
    }
   }
  },
  {
   "cell_type": "code",
   "execution_count": 13,
   "outputs": [
    {
     "data": {
      "text/plain": "Launching TensorBoard..."
     },
     "metadata": {},
     "output_type": "display_data"
    },
    {
     "data": {
      "text/plain": "<IPython.core.display.HTML object>",
      "text/html": "\n      <iframe id=\"tensorboard-frame-71c5ade0641b8bb4\" width=\"100%\" height=\"800\" frameborder=\"0\">\n      </iframe>\n      <script>\n        (function() {\n          const frame = document.getElementById(\"tensorboard-frame-71c5ade0641b8bb4\");\n          const url = new URL(\"/\", window.location);\n          const port = 6009;\n          if (port) {\n            url.port = port;\n          }\n          frame.src = url;\n        })();\n      </script>\n    "
     },
     "metadata": {},
     "output_type": "display_data"
    }
   ],
   "source": [
    "%tensorboard --logdir ./tensor_board_ddpg_car_racing_v2/"
   ],
   "metadata": {
    "collapsed": false,
    "ExecuteTime": {
     "start_time": "2024-04-15T22:02:39.870628Z",
     "end_time": "2024-04-15T22:02:39.895795Z"
    }
   }
  },
  {
   "cell_type": "code",
   "execution_count": null,
   "outputs": [],
   "source": [],
   "metadata": {
    "collapsed": false
   }
  }
 ],
 "metadata": {
  "kernelspec": {
   "name": "roadnetopt",
   "language": "python",
   "display_name": "RoadNetOpt"
  },
  "language_info": {
   "codemirror_mode": {
    "name": "ipython",
    "version": 2
   },
   "file_extension": ".py",
   "mimetype": "text/x-python",
   "name": "python",
   "nbconvert_exporter": "python",
   "pygments_lexer": "ipython2",
   "version": "2.7.6"
  }
 },
 "nbformat": 4,
 "nbformat_minor": 0
}
