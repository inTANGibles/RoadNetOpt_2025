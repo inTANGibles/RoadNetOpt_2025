{
 "cells": [
  {
   "cell_type": "code",
   "execution_count": 1,
   "id": "5d244f26",
   "metadata": {},
   "outputs": [
    {
     "data": {
      "text/plain": [
       "array([-0.00720062,  1.4170165 , -0.7293671 ,  0.27093425,  0.00835057,\n",
       "        0.1652125 ,  0.        ,  0.        ], dtype=float32)"
      ]
     },
     "execution_count": 1,
     "metadata": {},
     "output_type": "execute_result"
    }
   ],
   "source": [
    "import gym\n",
    "\n",
    "\n",
    "#定义环境\n",
    "class MyWrapper(gym.Wrapper):\n",
    "\n",
    "    def __init__(self):\n",
    "        env = gym.make('LunarLander-v2',\n",
    "                       continuous=True,\n",
    "                       render_mode='rgb_array')\n",
    "        super().__init__(env)\n",
    "        self.env = env\n",
    "        self.step_n = 0\n",
    "\n",
    "    def reset(self):\n",
    "        state, _ = self.env.reset()\n",
    "        self.step_n = 0\n",
    "        return state\n",
    "\n",
    "    def step(self, action):\n",
    "        state, reward, done, _, info = self.env.step(action)\n",
    "        self.step_n += 1\n",
    "        if self.step_n >= 400:\n",
    "            done = True\n",
    "        return state, reward, done, info\n",
    "\n",
    "\n",
    "env = MyWrapper()\n",
    "\n",
    "env.reset()"
   ]
  },
  {
   "cell_type": "code",
   "execution_count": 2,
   "id": "b77c66d3",
   "metadata": {},
   "outputs": [
    {
     "data": {
      "image/png": "[encoded data removed]",
      "text/plain": [
       "<Figure size 300x300 with 1 Axes>"
      ]
     },
     "metadata": {},
     "output_type": "display_data"
    }
   ],
   "source": [
    "from matplotlib import pyplot as plt\n",
    "\n",
    "%matplotlib inline\n",
    "\n",
    "\n",
    "#打印游戏\n",
    "def show():\n",
    "    plt.figure(figsize=(3, 3))\n",
    "    plt.imshow(env.render())\n",
    "    plt.show()\n",
    "\n",
    "\n",
    "show()"
   ]
  },
  {
   "cell_type": "code",
   "execution_count": 3,
   "id": "f489de60",
   "metadata": {},
   "outputs": [
    {
     "name": "stdout",
     "output_type": "stream",
     "text": [
      "env.observation_space= Box([-1.5       -1.5       -5.        -5.        -3.1415927 -5.\n",
      " -0.        -0.       ], [1.5       1.5       5.        5.        3.1415927 5.        1.\n",
      " 1.       ], (8,), float32)\n",
      "env.action_space= Box(-1.0, 1.0, (2,), float32)\n",
      "state= [-0.00274715  1.4168403  -0.27828535  0.2631164   0.00319017  0.06303567\n",
      "  0.          0.        ]\n",
      "action= [-0.97116625 -0.24147968]\n",
      "next_state= [-0.00549479  1.4221826  -0.2779088   0.23741789  0.00630512  0.06230493\n",
      "  0.          0.        ]\n",
      "reward= 0.8999845656363163\n",
      "done= False\n",
      "info= {}\n"
     ]
    }
   ],
   "source": [
    "#认识游戏环境\n",
    "def test_env():\n",
    "    print('env.observation_space=', env.observation_space)\n",
    "    print('env.action_space=', env.action_space)\n",
    "\n",
    "    state = env.reset()\n",
    "    action = env.action_space.sample()\n",
    "    next_state, reward, done, info = env.step(action)\n",
    "\n",
    "    print('state=', state)\n",
    "    print('action=', action)\n",
    "    print('next_state=', next_state)\n",
    "    print('reward=', reward)\n",
    "    print('done=', done)\n",
    "    print('info=', info)\n",
    "\n",
    "\n",
    "test_env()"
   ]
  },
  {
   "cell_type": "code",
   "execution_count": 4,
   "id": "6d5c572d",
   "metadata": {},
   "outputs": [
    {
     "data": {
      "text/plain": [
       "<stable_baselines3.ppo.ppo.PPO at 0x7ff4f3cd9760>"
      ]
     },
     "execution_count": 4,
     "metadata": {},
     "output_type": "execute_result"
    }
   ],
   "source": [
    "from stable_baselines3 import PPO\n",
    "from stable_baselines3.common.env_util import make_vec_env\n",
    "\n",
    "#初始化模型\n",
    "model = PPO(\n",
    "    policy='MlpPolicy',\n",
    "    env=make_vec_env(MyWrapper, n_envs=8),  #使用N个环境同时训练\n",
    "    learning_rate=1e-3,\n",
    "    n_steps=1024,  #运行N步后执行更新,buffer_size=n_steps*环境数量\n",
    "    batch_size=64,  #采样数据量\n",
    "    n_epochs=16,  #每次采样后训练的次数\n",
    "    gamma=0.99,\n",
    "    verbose=0)\n",
    "\n",
    "model"
   ]
  },
  {
   "cell_type": "code",
   "execution_count": 5,
   "id": "22afd2bc",
   "metadata": {},
   "outputs": [
    {
     "name": "stderr",
     "output_type": "stream",
     "text": [
      "/root/anaconda3/envs/pt39/lib/python3.9/site-packages/stable_baselines3/common/evaluation.py:67: UserWarning: Evaluation environment is not wrapped with a ``Monitor`` wrapper. This may result in reporting modified episode lengths and rewards, if other wrappers happen to modify these. Consider wrapping environment first with ``Monitor`` wrapper.\n",
      "  warnings.warn(\n"
     ]
    },
    {
     "data": {
      "text/plain": [
       "(-281.24740603069074, 167.4010756187529)"
      ]
     },
     "execution_count": 5,
     "metadata": {},
     "output_type": "execute_result"
    }
   ],
   "source": [
    "from stable_baselines3.common.evaluation import evaluate_policy\n",
    "\n",
    "evaluate_policy(model, env, n_eval_episodes=20, deterministic=False)"
   ]
  },
  {
   "cell_type": "code",
   "execution_count": 6,
   "id": "75e0b593",
   "metadata": {
    "scrolled": false
   },
   "outputs": [],
   "source": [
    "# #训练\n",
    "# model.learn(100_0000, progress_bar=True)\n",
    "\n",
    "# #保存模型\n",
    "# model.save('save/2.PPO.Lunar Lander Continuous')"
   ]
  },
  {
   "cell_type": "code",
   "execution_count": 7,
   "id": "cdaaf12a",
   "metadata": {},
   "outputs": [
    {
     "data": {
      "text/plain": [
       "(272.2415943570289, 54.26272932228687)"
      ]
     },
     "execution_count": 7,
     "metadata": {},
     "output_type": "execute_result"
    }
   ],
   "source": [
    "#加载模型\n",
    "model = PPO.load('save/2.PPO.Lunar Lander Continuous')\n",
    "\n",
    "evaluate_policy(model, env, n_eval_episodes=20, deterministic=False)"
   ]
  },
  {
   "cell_type": "code",
   "execution_count": 17,
   "id": "414e1478",
   "metadata": {
    "scrolled": false
   },
   "outputs": [
    {
     "data": {
      "image/png": "[encoded data removed]",
      "text/plain": [
       "<Figure size 300x300 with 1 Axes>"
      ]
     },
     "metadata": {},
     "output_type": "display_data"
    },
    {
     "name": "stdout",
     "output_type": "stream",
     "text": [
      "288.2618139933845 215 [0.7179384502343567, 0.7686211759246362, 0.7738843312328356, 1.1586963072128913, 0.8596935515823816, 1.3921985670843389, 0.9493888533870631, 1.3976901913345388, 0.9703761366013168, 0.8998041733740934, 1.2683941418709004, 1.510405461603866, 0.842608355102783, 0.708108347815255, 1.0484193793252166, 0.48942223080354097, 0.9273259623663569, 0.2538313558979439, 0.0836153128059891, -0.07845104111160595, -0.3990694225088305, -1.0524983026904806, -1.1703181849802604, -1.2707567442189145, -1.4085500669297915, -1.4240330197047228, -1.4757410865840086, -1.5140897391261774, -1.5405118062132033, -1.5564933197917696, -1.5633357537496977, -1.5622877977783673, -1.5543552638798417, -1.5405068301204778, -1.3411792527498971, -1.664892654173002, -1.6366451607187855, -1.6051878593306128, -1.570909206838138, -1.5342051800569436, -1.4088987336992158, -1.5819873499792152, -1.5392858458108662, -1.4953000244149166, -1.4501340060389794, -1.4040224692284369, 0.6441812189413441, 2.1204467392581647, 1.1293172724021985, 2.3184826518752515, 2.5585768709761054, 2.061331993967104, 3.112408219693492, -1.5785635467129566, 2.0513594140343208, 0.9428336560690809, 0.6783775845506852, 3.1226172618119277, 1.8422163880135998, 2.338941243152135, 1.44663618379289, 1.4260231622176947, 0.37434109131196236, 2.1523451158143985, -1.5698193817607944, 1.348316383635762, -1.473310305207292, 2.08923693599981, 1.5732964694318696, 1.2670747469215597, 2.3470060986341537, 0.49030881190534725, 1.8997467935072336, 2.1315437188384068, 3.194277697778034, 0.9766613487701079, -0.024988838123795182, 0.7642279787567361, 1.9808772645730186, 0.08484358681008644, 2.9460887928190855, 0.7193804201615478, 3.4796184632929625, 1.7344584687351812, 0.8643341264046569, 3.2311252410602593, 2.3552207902182603, 0.8824625616726337, 0.16068077929802485, 1.3325114759246184, 2.7890378350321496, 1.2274909366660154, 3.6223986401481945, 1.302947925108964, 0.9823061440391427, 0.9748000497264343, 1.09881802098364, 1.1344638197223276, 2.198359936489163, 1.7367853554294812, 2.8614302542221743, 0.8340010658154086, 3.1865853406752933, 1.485292892740776, 2.1180202471212595, 1.783545806280506, 2.4958490423832473, 2.2790998728164285, 1.7874859192007306, 2.487180136035559, 2.0894912926050377, 1.6870563440209765, 1.6965029782436176, 0.6200464012341967, 0.8523449325013559, 1.7710987354830565, 3.361887600504235, 2.159621650385887, 0.056843810982002196, 1.9913715205293954, 4.470027631514176, 1.638139591851513, 1.3845677827055283, -0.8745479483669214, 0.010585973774976776, 0.2922415592109502, 0.7986450535387718, -0.31114545361556906, -1.2830720795555113, 1.2847716897016948, -1.4992447773568216, 0.7659208358711538, 1.1309106359719352, -1.1934012380261094, -0.2896456942304548, 2.628856308448275, 2.168072339320389, 1.0971220815893628, -1.1921042181591646, -1.2966512232852807, 0.2596997625190113, 1.5077802441495407, 1.919628714177034, 1.863054843587534, 1.2731934561105347, 1.4551541806142836, 0.958921755361412, 2.7311454141190694, -1.004712399030292, 1.5417906714365233, 2.4926743079176577, 10.406783065701031, 2.2217067629086813, 6.687189558465912, 6.401488243057863, 3.9803839597736856, -5.31786109981937, -0.8420456070899105, 6.474460969601176, 0.18934595422696845, 2.2089838643450506, 2.9711191431063675, 13.264224417758939, -0.5097932258801038, 1.8770254339225587, 0.9641878321596131, 1.189996412687897, 0.8144038785755185, 0.34735229963718695, 0.11415592280400233, 0.15552951548808736, 1.53942134193532, 1.1175509546285483, 0.8702736298975502, 0.29285892720055173, 0.47496307503299917, 0.4944925716969557, 0.493824537891804, 0.4993158926546162, 0.5049838682734968, 0.510652640206203, 0.5163140058957314, 0.5219678312345053, 0.5276237241483148, 0.5332872410327578, 0.53894369338955, 0.5445997090913544, 0.5502536000758198, 0.5559102069767761, 0.5615650572912543, 0.3609269833667703, -0.11780515478095488, 0.07409139623798033, 0.08669808583812255, -0.0203477661207927, 0.007361911810445321, 0.015260096706992243, 0.0001317334435242401, 1.3939452085054427e-05, 0.0024804739737458448, 0.0007674590261590453, -0.00023954457155639375, 0.0003730943423150279, 0.00027077588202040204, -9.013708216798477e-05, 4.47445220306264e-05, 5.804171074430542e-05, -8.480880962835613e-06, 3.6061534185449773e-06, 9.00688866600774e-06, 4.023555588261729e-06, -3.5570188465783303e-06, -1.0231927447534872e-06, 1.0507847623131283e-06, 100]\n"
     ]
    }
   ],
   "source": [
    "from IPython import display\n",
    "import random\n",
    "\n",
    "\n",
    "def test():\n",
    "    state = env.reset()\n",
    "    reward_sum = []\n",
    "    over = False\n",
    "    while not over:\n",
    "        action, _ = model.predict(state)\n",
    "        state, reward, over, _ = env.step(action)\n",
    "        reward_sum.append(reward)\n",
    "\n",
    "        if len(reward_sum) % 5 == 0:\n",
    "            display.clear_output(wait=True)\n",
    "            show()\n",
    "\n",
    "    print(sum(reward_sum), len(reward_sum), reward_sum)\n",
    "\n",
    "\n",
    "test()"
   ]
  }
 ],
 "metadata": {
  "kernelspec": {
   "display_name": "Python 3 (ipykernel)",
   "language": "python",
   "name": "python3"
  },
  "language_info": {
   "codemirror_mode": {
    "name": "ipython",
    "version": 3
   },
   "file_extension": ".py",
   "mimetype": "text/x-python",
   "name": "python",
   "nbconvert_exporter": "python",
   "pygments_lexer": "ipython3",
   "version": "3.9.15"
  }
 },
 "nbformat": 4,
 "nbformat_minor": 5
}
