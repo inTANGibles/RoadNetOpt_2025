{
 "cells": [
  {
   "cell_type": "code",
   "execution_count": 1,
   "id": "5d244f26",
   "metadata": {},
   "outputs": [
    {
     "data": {
      "text/plain": [
       "array([ 0.00686026,  1.421801  ,  0.6948606 ,  0.48357785, -0.0079426 ,\n",
       "       -0.15739633,  0.        ,  0.        ], dtype=float32)"
      ]
     },
     "execution_count": 1,
     "metadata": {},
     "output_type": "execute_result"
    }
   ],
   "source": [
    "import gym\n",
    "\n",
    "\n",
    "#定义环境\n",
    "class MyWrapper(gym.Wrapper):\n",
    "\n",
    "    def __init__(self):\n",
    "        env = gym.make('LunarLander-v2',\n",
    "                       continuous=False,\n",
    "                       render_mode='rgb_array')\n",
    "        super().__init__(env)\n",
    "        self.env = env\n",
    "        self.step_n = 0\n",
    "\n",
    "    def reset(self):\n",
    "        state, _ = self.env.reset()\n",
    "        self.step_n = 0\n",
    "        return state\n",
    "\n",
    "    def step(self, action):\n",
    "        state, reward, done, _, info = self.env.step(action)\n",
    "        self.step_n += 1\n",
    "        if self.step_n >= 400:\n",
    "            done = True\n",
    "        return state, reward, done, info\n",
    "\n",
    "\n",
    "env = MyWrapper()\n",
    "\n",
    "env.reset()"
   ]
  },
  {
   "cell_type": "code",
   "execution_count": 2,
   "id": "b77c66d3",
   "metadata": {},
   "outputs": [
    {
     "data": {
      "image/png": "[encoded data removed]",
      "text/plain": [
       "<Figure size 300x300 with 1 Axes>"
      ]
     },
     "metadata": {},
     "output_type": "display_data"
    }
   ],
   "source": [
    "from matplotlib import pyplot as plt\n",
    "\n",
    "%matplotlib inline\n",
    "\n",
    "\n",
    "#打印游戏\n",
    "def show():\n",
    "    plt.figure(figsize=(3, 3))\n",
    "    plt.imshow(env.render())\n",
    "    plt.show()\n",
    "\n",
    "\n",
    "show()"
   ]
  },
  {
   "cell_type": "code",
   "execution_count": 3,
   "id": "f489de60",
   "metadata": {},
   "outputs": [
    {
     "name": "stdout",
     "output_type": "stream",
     "text": [
      "env.observation_space= Box([-1.5       -1.5       -5.        -5.        -3.1415927 -5.\n",
      " -0.        -0.       ], [1.5       1.5       5.        5.        3.1415927 5.        1.\n",
      " 1.       ], (8,), float32)\n",
      "env.action_space= Discrete(4)\n",
      "state= [-1.2488365e-03  1.4045997e+00 -1.2650049e-01 -2.8090703e-01\n",
      "  1.4537866e-03  2.8654184e-02  0.0000000e+00  0.0000000e+00]\n",
      "action= 2\n",
      "next_state= [-0.00238953  1.3991038  -0.11603234 -0.24426208  0.00339713  0.03887122\n",
      "  0.          0.        ]\n",
      "reward= 3.8206632939835687\n",
      "done= False\n",
      "info= {}\n"
     ]
    }
   ],
   "source": [
    "#认识游戏环境\n",
    "def test_env():\n",
    "    print('env.observation_space=', env.observation_space)\n",
    "    print('env.action_space=', env.action_space)\n",
    "\n",
    "    state = env.reset()\n",
    "    action = env.action_space.sample()\n",
    "    next_state, reward, done, info = env.step(action)\n",
    "\n",
    "    print('state=', state)\n",
    "    print('action=', action)\n",
    "    print('next_state=', next_state)\n",
    "    print('reward=', reward)\n",
    "    print('done=', done)\n",
    "    print('info=', info)\n",
    "\n",
    "\n",
    "test_env()"
   ]
  },
  {
   "cell_type": "code",
   "execution_count": 4,
   "id": "6d5c572d",
   "metadata": {},
   "outputs": [
    {
     "data": {
      "text/plain": [
       "<stable_baselines3.ppo.ppo.PPO at 0x7f1d1f0c77c0>"
      ]
     },
     "execution_count": 4,
     "metadata": {},
     "output_type": "execute_result"
    }
   ],
   "source": [
    "from stable_baselines3 import PPO\n",
    "from stable_baselines3.common.env_util import make_vec_env\n",
    "\n",
    "#初始化模型\n",
    "model = PPO(\n",
    "    policy='MlpPolicy',\n",
    "    env=make_vec_env(MyWrapper, n_envs=8),  #使用N个环境同时训练\n",
    "    learning_rate=1e-3,\n",
    "    n_steps=1024,  #运行N步后执行更新,buffer_size=n_steps*环境数量\n",
    "    batch_size=64,  #采样数据量\n",
    "    n_epochs=16,  #每次采样后训练的次数\n",
    "    gamma=0.99,\n",
    "    verbose=0)\n",
    "\n",
    "model"
   ]
  },
  {
   "cell_type": "code",
   "execution_count": 5,
   "id": "22afd2bc",
   "metadata": {},
   "outputs": [
    {
     "name": "stderr",
     "output_type": "stream",
     "text": [
      "/root/anaconda3/envs/pt39/lib/python3.9/site-packages/stable_baselines3/common/evaluation.py:67: UserWarning: Evaluation environment is not wrapped with a ``Monitor`` wrapper. This may result in reporting modified episode lengths and rewards, if other wrappers happen to modify these. Consider wrapping environment first with ``Monitor`` wrapper.\n",
      "  warnings.warn(\n"
     ]
    },
    {
     "data": {
      "text/plain": [
       "(-186.2003113092622, 127.51220384337816)"
      ]
     },
     "execution_count": 5,
     "metadata": {},
     "output_type": "execute_result"
    }
   ],
   "source": [
    "from stable_baselines3.common.evaluation import evaluate_policy\n",
    "\n",
    "evaluate_policy(model, env, n_eval_episodes=20, deterministic=False)"
   ]
  },
  {
   "cell_type": "code",
   "execution_count": 6,
   "id": "75e0b593",
   "metadata": {
    "scrolled": false
   },
   "outputs": [],
   "source": [
    "# #训练\n",
    "# model.learn(100_0000, progress_bar=True)\n",
    "\n",
    "# #保存模型\n",
    "# model.save('save/1.PPO.Lunar Lander')"
   ]
  },
  {
   "cell_type": "code",
   "execution_count": 7,
   "id": "cdaaf12a",
   "metadata": {},
   "outputs": [
    {
     "data": {
      "text/plain": [
       "(265.7510707758057, 57.85305098127015)"
      ]
     },
     "execution_count": 7,
     "metadata": {},
     "output_type": "execute_result"
    }
   ],
   "source": [
    "#加载模型\n",
    "model = PPO.load('save/1.PPO.Lunar Lander')\n",
    "\n",
    "evaluate_policy(model, env, n_eval_episodes=20, deterministic=False)"
   ]
  },
  {
   "cell_type": "code",
   "execution_count": 16,
   "id": "414e1478",
   "metadata": {},
   "outputs": [
    {
     "data": {
      "image/png": "[encoded data removed]",
      "text/plain": [
       "<Figure size 300x300 with 1 Axes>"
      ]
     },
     "metadata": {},
     "output_type": "display_data"
    },
    {
     "name": "stdout",
     "output_type": "stream",
     "text": [
      "269.0743261571944 162 [1.9535648857281274, 2.1027781425759997, 2.16199896559138, 2.215160996075781, 2.2650470259618203, 2.3085327551518446, 2.3388834755316736, 2.3377030355311774, 2.9992252764444074, 1.5155375724942541, 0.17756842505556847, -1.7851174240369687, -2.287398042555168, -2.36924663018371, -2.362138367441588, -2.4510520838217063, -2.4281164788774263, -2.2443180358797576, -2.1892792346012584, -2.132731770360067, -2.2736083142014523, -2.1096894770403183, -1.933892398327231, -1.7188953089604115, -1.6685296110653667, -1.6460600414626458, -1.6465209810120314, -1.5871558499736977, -1.5276759086796972, -1.46813210459851, -1.4085233447681276, -1.348845255755208, -1.2891413391053277, -1.229403711692271, -1.1696212917637467, -1.2487630542336763, -1.4463144353769326, -1.1479506965648614, -1.0505088542637395, -0.9906119617407967, -0.8196449260621523, -0.6663029947910388, -0.8377871821362521, -0.6347848869889663, -0.6364621743526289, -0.7955001359614176, -0.6108429692938262, -0.4651523044323358, -0.11949423814124202, -0.30748266773932076, 4.7221117512281525, 3.343533936401127, 3.0375517732196444, 5.194146175326819, 3.8714931365165173, 2.281970793850758, -0.7864146153130196, -0.5484912234064143, 4.313448323844125, 2.30328816663386, 2.339237460233801, 5.869743405102651, 5.348053010807303, 1.85204942770211, 5.938311183118185, 4.9852208667519, -0.6058182584655174, -0.6814556993397491, 5.102516934357721, -0.9154147444334331, -0.6200715367944827, 2.138068207584735, 2.648473936402735, 2.7963182060962994, 5.364931335321541, 3.737501698731177, 4.963359782570746, 4.409543775150209, 3.3334390392689928, 2.1689857463400815, -1.1456017163549024, 4.598787650774281, -1.2396869740730228, 5.072390804971431, 4.81397212844895, 0.6422766106900297, -1.3668173276048055, 2.0000662407790175, 5.06324963464125, 3.4639826947348924, -1.133818916679586, -1.159833313860729, 3.482966790871015, 3.4726767608606197, 3.8369247716488077, 2.461825468047448, 1.7551453463108373, 1.1207962043710438, 4.418767213348265, 4.038021887073744, 2.96079554315848, 1.3504038025295386, 0.6768632770831828, 3.3927250333539236, 2.4450108311127936, 2.4358189403170813, 1.522127403486192, 0.753230242464366, 2.1604250209848077, 1.149194532839229, 0.39709606267750247, 22.29565851391273, 7.014279336055638, 7.1233067486283845, 6.9863814983468915, 2.687336144304682, 2.5133849647723974, 1.8634490950774918, -1.4426047957317216, -1.7765716715996653, -1.4783123686763862, -1.0125620870053762, -0.4931582491438906, 0.013213498311156258, 0.45139725410943043, 0.771983456639477, 0.9400521158821711, 0.9453135097782237, 0.8058090755806813, 0.5640325131695381, 0.276906627739713, -0.0020671333393789126, -0.2367073013659482, -0.4019136934711369, 0.5940129318847926, 1.8023354984518623, 0.3868888077776589, 0.15057636140861774, -0.04390799056717043, 0.058102521028917664, 0.0472524614705776, -0.01571431660007505, 0.006686327701295625, 0.009437204843003144, -0.0014010897277536571, 0.0005986650246967429, 0.0016339487821035448, 0.0001502082014148698, -4.7094609882947225e-05, 0.0002531660080258291, 0.00010699293698124279, -3.3708413404553994e-05, 3.759739799491513e-05, 3.258722678367576e-05, -1.0757537634020764e-05, 2.987944384358343e-06, 5.2983901213110585e-06, 3.100798402044802e-06, -1.924401487940486e-06, -1.1040235392556497e-06, 1.7121091389071807e-06, 100]\n"
     ]
    }
   ],
   "source": [
    "from IPython import display\n",
    "import random\n",
    "\n",
    "\n",
    "def test():\n",
    "    state = env.reset()\n",
    "    reward_sum = []\n",
    "    over = False\n",
    "    while not over:\n",
    "        action, _ = model.predict(state)\n",
    "        state, reward, over, _ = env.step(action)\n",
    "        reward_sum.append(reward)\n",
    "\n",
    "        if len(reward_sum) % 5 == 0:\n",
    "            display.clear_output(wait=True)\n",
    "            show()\n",
    "\n",
    "    print(sum(reward_sum), len(reward_sum), reward_sum)\n",
    "\n",
    "\n",
    "test()"
   ]
  }
 ],
 "metadata": {
  "kernelspec": {
   "display_name": "Python 3 (ipykernel)",
   "language": "python",
   "name": "python3"
  },
  "language_info": {
   "codemirror_mode": {
    "name": "ipython",
    "version": 3
   },
   "file_extension": ".py",
   "mimetype": "text/x-python",
   "name": "python",
   "nbconvert_exporter": "python",
   "pygments_lexer": "ipython3",
   "version": "3.9.15"
  }
 },
 "nbformat": 4,
 "nbformat_minor": 5
}
