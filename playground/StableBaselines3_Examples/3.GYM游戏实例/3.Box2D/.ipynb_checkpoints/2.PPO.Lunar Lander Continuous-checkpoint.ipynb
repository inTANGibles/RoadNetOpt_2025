{
 "cells": [
  {
   "cell_type": "code",
   "execution_count": 1,
   "id": "5d244f26",
   "metadata": {},
   "outputs": [
    {
     "data": {
      "text/plain": [
       "array([-5.5732729e-04,  1.4017692e+00, -5.6461025e-02, -4.0671340e-01,\n",
       "        6.5254071e-04,  1.2789289e-02,  0.0000000e+00,  0.0000000e+00],\n",
       "      dtype=float32)"
      ]
     },
     "execution_count": 1,
     "metadata": {},
     "output_type": "execute_result"
    }
   ],
   "source": [
    "import gym\n",
    "\n",
    "\n",
    "#定义环境\n",
    "class MyWrapper(gym.Wrapper):\n",
    "\n",
    "    def __init__(self):\n",
    "        env = gym.make('LunarLander-v2',\n",
    "                       continuous=True,\n",
    "                       render_mode='rgb_array')\n",
    "        super().__init__(env)\n",
    "        self.env = env\n",
    "        self.step_n = 0\n",
    "\n",
    "    def reset(self):\n",
    "        state, _ = self.env.reset()\n",
    "        self.step_n = 0\n",
    "        return state\n",
    "\n",
    "    def step(self, action):\n",
    "        state, reward, done, _, info = self.env.step(action)\n",
    "        self.step_n += 1\n",
    "        if self.step_n >= 400:\n",
    "            done = True\n",
    "        return state, reward, done, info\n",
    "\n",
    "\n",
    "env = MyWrapper()\n",
    "\n",
    "env.reset()"
   ]
  },
  {
   "cell_type": "code",
   "execution_count": 2,
   "id": "b77c66d3",
   "metadata": {},
   "outputs": [
    {
     "data": {
      "image/png": "[encoded data removed]",
      "text/plain": [
       "<Figure size 300x300 with 1 Axes>"
      ]
     },
     "metadata": {},
     "output_type": "display_data"
    }
   ],
   "source": [
    "from matplotlib import pyplot as plt\n",
    "\n",
    "%matplotlib inline\n",
    "\n",
    "\n",
    "#打印游戏\n",
    "def show():\n",
    "    plt.figure(figsize=(3, 3))\n",
    "    plt.imshow(env.render())\n",
    "    plt.show()\n",
    "\n",
    "\n",
    "show()"
   ]
  },
  {
   "cell_type": "code",
   "execution_count": 3,
   "id": "f489de60",
   "metadata": {},
   "outputs": [
    {
     "name": "stdout",
     "output_type": "stream",
     "text": [
      "env.observation_space= Box([-1.5       -1.5       -5.        -5.        -3.1415927 -5.\n",
      " -0.        -0.       ], [1.5       1.5       5.        5.        3.1415927 5.        1.\n",
      " 1.       ], (8,), float32)\n",
      "env.action_space= Box(-1.0, 1.0, (2,), float32)\n",
      "state= [ 0.00262108  1.416303    0.2654778   0.23924235 -0.00303044 -0.06013473\n",
      "  0.          0.        ]\n",
      "action= [-0.6357824  -0.06871741]\n",
      "next_state= [ 0.00524225  1.4211081   0.265119    0.21354581 -0.0060019  -0.05943376\n",
      "  0.          0.        ]\n",
      "reward= 0.9163025709748922\n",
      "done= False\n",
      "info= {}\n"
     ]
    }
   ],
   "source": [
    "#认识游戏环境\n",
    "def test_env():\n",
    "    print('env.observation_space=', env.observation_space)\n",
    "    print('env.action_space=', env.action_space)\n",
    "\n",
    "    state = env.reset()\n",
    "    action = env.action_space.sample()\n",
    "    next_state, reward, done, info = env.step(action)\n",
    "\n",
    "    print('state=', state)\n",
    "    print('action=', action)\n",
    "    print('next_state=', next_state)\n",
    "    print('reward=', reward)\n",
    "    print('done=', done)\n",
    "    print('info=', info)\n",
    "\n",
    "\n",
    "test_env()"
   ]
  },
  {
   "cell_type": "code",
   "execution_count": 4,
   "id": "6d5c572d",
   "metadata": {},
   "outputs": [
    {
     "data": {
      "text/plain": [
       "<stable_baselines3.ppo.ppo.PPO at 0x7f3f9857f430>"
      ]
     },
     "execution_count": 4,
     "metadata": {},
     "output_type": "execute_result"
    }
   ],
   "source": [
    "from stable_baselines3 import PPO\n",
    "from stable_baselines3.common.env_util import make_vec_env\n",
    "\n",
    "#初始化模型\n",
    "model = PPO(\n",
    "    policy='MlpPolicy',\n",
    "    env=make_vec_env(MyWrapper, n_envs=8),  #使用N个环境同时训练\n",
    "    learning_rate=1e-3,\n",
    "    n_steps=1024,  #运行N步后执行更新,buffer_size=n_steps*环境数量\n",
    "    batch_size=64,  #采样数据量\n",
    "    n_epochs=16,  #每次采样后训练的次数\n",
    "    gamma=0.99,\n",
    "    verbose=0)\n",
    "\n",
    "model"
   ]
  },
  {
   "cell_type": "code",
   "execution_count": 5,
   "id": "22afd2bc",
   "metadata": {},
   "outputs": [
    {
     "name": "stderr",
     "output_type": "stream",
     "text": [
      "/root/anaconda3/envs/pt39/lib/python3.9/site-packages/stable_baselines3/common/evaluation.py:67: UserWarning: Evaluation environment is not wrapped with a ``Monitor`` wrapper. This may result in reporting modified episode lengths and rewards, if other wrappers happen to modify these. Consider wrapping environment first with ``Monitor`` wrapper.\n",
      "  warnings.warn(\n"
     ]
    },
    {
     "data": {
      "text/plain": [
       "(-270.40662152247387, 157.04002772963742)"
      ]
     },
     "execution_count": 5,
     "metadata": {},
     "output_type": "execute_result"
    }
   ],
   "source": [
    "from stable_baselines3.common.evaluation import evaluate_policy\n",
    "\n",
    "evaluate_policy(model, env, n_eval_episodes=20, deterministic=False)"
   ]
  },
  {
   "cell_type": "code",
   "execution_count": 6,
   "id": "75e0b593",
   "metadata": {
    "scrolled": false
   },
   "outputs": [
    {
     "data": {
      "application/vnd.jupyter.widget-view+json": {
       "model_id": "a137a618d1904da0a03c0b9c211ce992",
       "version_major": 2,
       "version_minor": 0
      },
      "text/plain": [
       "Output()"
      ]
     },
     "metadata": {},
     "output_type": "display_data"
    },
    {
     "data": {
      "text/html": [
       "<pre style=\"white-space:pre;overflow-x:auto;line-height:normal;font-family:Menlo,'DejaVu Sans Mono',consolas,'Courier New',monospace\"></pre>\n"
      ],
      "text/plain": []
     },
     "metadata": {},
     "output_type": "display_data"
    },
    {
     "data": {
      "text/html": [
       "<pre style=\"white-space:pre;overflow-x:auto;line-height:normal;font-family:Menlo,'DejaVu Sans Mono',consolas,'Courier New',monospace\">\n",
       "</pre>\n"
      ],
      "text/plain": [
       "\n"
      ]
     },
     "metadata": {},
     "output_type": "display_data"
    }
   ],
   "source": [
    "# #训练\n",
    "# model.learn(100_0000, progress_bar=True)\n",
    "\n",
    "# #保存模型\n",
    "# model.save('save/2.PPO.Lunar Lander Continuous')"
   ]
  },
  {
   "cell_type": "code",
   "execution_count": 7,
   "id": "cdaaf12a",
   "metadata": {},
   "outputs": [
    {
     "data": {
      "text/plain": [
       "(251.44117638377293, 64.62917913218226)"
      ]
     },
     "execution_count": 7,
     "metadata": {},
     "output_type": "execute_result"
    }
   ],
   "source": [
    "#加载模型\n",
    "model = PPO.load('save/2.PPO.Lunar Lander Continuous')\n",
    "\n",
    "evaluate_policy(model, env, n_eval_episodes=20, deterministic=False)"
   ]
  },
  {
   "cell_type": "code",
   "execution_count": 13,
   "id": "414e1478",
   "metadata": {
    "scrolled": false
   },
   "outputs": [
    {
     "data": {
      "image/png": "[encoded data removed]",
      "text/plain": [
       "<Figure size 300x300 with 1 Axes>"
      ]
     },
     "metadata": {},
     "output_type": "display_data"
    },
    {
     "name": "stdout",
     "output_type": "stream",
     "text": [
      "266.9408517815397 171 [1.8299488652012883, 1.9649769051223984, 2.010039139768139, 2.0438045380105336, 2.066386786754265, 2.070322877108822, 2.041754027990862, 1.953044427117561, 1.7477683884659143, 1.3195227671954228, 0.550252749318247, -0.45065189390112437, -1.285118543664396, -1.7716930396991586, -2.0096940424465686, -2.1150649757676945, -2.152399718541716, -2.1533388896427823, -2.1335824361738673, -2.1013945397513965, -2.0613617685707766, -2.01612723635796, -1.9673619849544934, -1.916079989134147, -1.9543691028086414, -1.8063912271767038, -1.750898103582358, -1.6946710247575538, -1.6378091198812967, -1.58048418024336, -1.5227725428478323, -1.464741892070208, -1.4064540485665873, -1.3479727307947655, -1.289310538155405, -1.230486911881826, -1.1715421892810127, -1.1125101060586076, -1.05339636742508, -0.830260874718349, -0.8252553029220167, -0.7658465308285827, -0.706386894426231, -0.6468898411372379, -0.5873880159856242, -0.5278389684597471, -0.4682954487392408, -0.4087408357902689, -0.34918176191038697, -0.28960795456342225, -0.23004776188039955, -0.17050160250835233, 3.274240991801122, 1.2227239362171816, 1.8929920254333807, 2.513542564417918, 2.9487706094546295, 2.9893667360220944, 3.435579065824231, 3.1512450953859457, 5.383896369556095, 3.401660163998298, 5.076774581479663, 2.2152946322271303, 1.6652183707321797, 5.6346090366991515, 3.7964190405816054, 5.308212657199346, 3.358916413968342, 2.556457265015001, 1.3100802674566239, 3.9432190099603077, 5.202042666767352, 1.3760966187209192, 2.102759119944784, 2.818533525335721, 4.587411141481303, 3.4335014682234486, 1.726565245846075, 2.6103222144439058, 2.478950047427406, 4.994046232197829, 0.6902524937738321, 1.9403848229207654, 1.3025542651294217, 3.03037309547116, 2.678057738993272, 3.2763627436461435, 4.749884500989038, 0.6040248353856612, 3.0730474880199323, 3.7511609941394624, 1.846815124113553, 1.5880603212780187, 2.8394819415429056, 3.439340935869231, 0.3815829172918626, 1.7882949279575626, 3.7287940195668, 0.014631844654896031, 1.5015108049656802, 0.09836702285903698, -0.04037840897741346, 1.7146824976734976, 0.4403562245148578, 4.041992764219811, 2.682340066532203, -0.3783384511956967, -0.9038996254018741, 0.9899090008074296, 3.6166860246655945, 24.756628493292634, 3.270358514234676, 4.182609584244207, 3.515107059762127, 2.885383811872699, 1.3635083528402538, -5.65505100677504, -0.31790552910002745, 0.27846785862103474, 2.3468459229453664, 1.9289849532770553, 1.7485034837599365, 1.1829069702141464, 0.6638092546410874, 0.5487156245500557, 0.42888298328381147, -0.4045112761659606, -0.41712761267933907, -0.22106603496883714, 0.049176596853177656, 0.3185012468129518, 0.5234895318763026, 0.630319205538683, 0.6362076438749185, 0.5631488559571576, 0.44697520504606914, 0.32551847363459174, 0.2290223900778532, 0.17471991677381915, 0.1656519467512485, 0.19332271635964027, 0.24232484028250134, 0.29573588701974884, 0.3395094683589104, 0.36521153578020993, 1.7865641392452716, 0.012690639664969083, 0.02386910455246216, -0.0013619481594595584, 0.0005878741643350338, 0.0035141434762380186, 0.0007534600399594638, -0.00023710499543483365, 0.0005321640392672577, 0.0003226016030843937, -0.00010308302506700784, 7.296889665298067e-05, 8.153006074529401e-05, -1.924863900981677e-05, 5.409295519953616e-06, 1.1485167050295786e-05, 2.432366724036683e-06, -2.92220327224868e-06, 2.6047512804439066e-06, 8.303370471196558e-07, 2.2072652043902963e-06, 1.3497313489096996e-07, -2.470603119419934e-06, -2.6188535162674498e-06, 100]\n"
     ]
    }
   ],
   "source": [
    "from IPython import display\n",
    "import random\n",
    "\n",
    "\n",
    "def test():\n",
    "    state = env.reset()\n",
    "    reward_sum = []\n",
    "    over = False\n",
    "    while not over:\n",
    "        action, _ = model.predict(state)\n",
    "        state, reward, over, _ = env.step(action)\n",
    "        reward_sum.append(reward)\n",
    "\n",
    "        if len(reward_sum) % 5 == 0:\n",
    "            display.clear_output(wait=True)\n",
    "            show()\n",
    "\n",
    "    print(sum(reward_sum), len(reward_sum), reward_sum)\n",
    "\n",
    "\n",
    "test()"
   ]
  }
 ],
 "metadata": {
  "kernelspec": {
   "display_name": "Python 3 (ipykernel)",
   "language": "python",
   "name": "python3"
  },
  "language_info": {
   "codemirror_mode": {
    "name": "ipython",
    "version": 3
   },
   "file_extension": ".py",
   "mimetype": "text/x-python",
   "name": "python",
   "nbconvert_exporter": "python",
   "pygments_lexer": "ipython3",
   "version": "3.9.15"
  }
 },
 "nbformat": 4,
 "nbformat_minor": 5
}
