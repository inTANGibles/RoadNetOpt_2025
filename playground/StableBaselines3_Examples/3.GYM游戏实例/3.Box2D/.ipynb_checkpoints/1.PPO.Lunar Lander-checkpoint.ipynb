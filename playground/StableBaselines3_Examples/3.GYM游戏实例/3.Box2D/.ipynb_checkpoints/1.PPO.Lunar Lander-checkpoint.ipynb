{
 "cells": [
  {
   "cell_type": "code",
   "execution_count": 1,
   "id": "5d244f26",
   "metadata": {},
   "outputs": [
    {
     "data": {
      "text/plain": [
       "array([ 0.00538969,  1.4048686 ,  0.54590935, -0.26896894, -0.0062386 ,\n",
       "       -0.12365669,  0.        ,  0.        ], dtype=float32)"
      ]
     },
     "execution_count": 1,
     "metadata": {},
     "output_type": "execute_result"
    }
   ],
   "source": [
    "import gym\n",
    "\n",
    "\n",
    "#定义环境\n",
    "class MyWrapper(gym.Wrapper):\n",
    "\n",
    "    def __init__(self):\n",
    "        env = gym.make('LunarLander-v2',\n",
    "                       continuous=False,\n",
    "                       render_mode='rgb_array')\n",
    "        super().__init__(env)\n",
    "        self.env = env\n",
    "        self.step_n = 0\n",
    "\n",
    "    def reset(self):\n",
    "        state, _ = self.env.reset()\n",
    "        self.step_n = 0\n",
    "        return state\n",
    "\n",
    "    def step(self, action):\n",
    "        state, reward, done, _, info = self.env.step(action)\n",
    "        self.step_n += 1\n",
    "        if self.step_n >= 400:\n",
    "            done = True\n",
    "        return state, reward, done, info\n",
    "\n",
    "\n",
    "env = MyWrapper()\n",
    "\n",
    "env.reset()"
   ]
  },
  {
   "cell_type": "code",
   "execution_count": 2,
   "id": "b77c66d3",
   "metadata": {},
   "outputs": [
    {
     "data": {
      "image/png": "[encoded data removed]",
      "text/plain": [
       "<Figure size 300x300 with 1 Axes>"
      ]
     },
     "metadata": {},
     "output_type": "display_data"
    }
   ],
   "source": [
    "from matplotlib import pyplot as plt\n",
    "\n",
    "%matplotlib inline\n",
    "\n",
    "\n",
    "#打印游戏\n",
    "def show():\n",
    "    plt.figure(figsize=(3, 3))\n",
    "    plt.imshow(env.render())\n",
    "    plt.show()\n",
    "\n",
    "\n",
    "show()"
   ]
  },
  {
   "cell_type": "code",
   "execution_count": 3,
   "id": "f489de60",
   "metadata": {},
   "outputs": [
    {
     "name": "stdout",
     "output_type": "stream",
     "text": [
      "env.observation_space= Box([-1.5       -1.5       -5.        -5.        -3.1415927 -5.\n",
      " -0.        -0.       ], [1.5       1.5       5.        5.        3.1415927 5.        1.\n",
      " 1.       ], (8,), float32)\n",
      "env.action_space= Discrete(4)\n",
      "state= [-0.00166864  1.4159211  -0.16903177  0.22226675  0.00194033  0.03828825\n",
      "  0.          0.        ]\n",
      "action= 3\n",
      "next_state= [-0.00327435  1.4203348  -0.16087165  0.19616231  0.00224203  0.00603511\n",
      "  0.          0.        ]\n",
      "reward= 2.052907066271645\n",
      "done= False\n",
      "info= {}\n"
     ]
    }
   ],
   "source": [
    "#认识游戏环境\n",
    "def test_env():\n",
    "    print('env.observation_space=', env.observation_space)\n",
    "    print('env.action_space=', env.action_space)\n",
    "\n",
    "    state = env.reset()\n",
    "    action = env.action_space.sample()\n",
    "    next_state, reward, done, info = env.step(action)\n",
    "\n",
    "    print('state=', state)\n",
    "    print('action=', action)\n",
    "    print('next_state=', next_state)\n",
    "    print('reward=', reward)\n",
    "    print('done=', done)\n",
    "    print('info=', info)\n",
    "\n",
    "\n",
    "test_env()"
   ]
  },
  {
   "cell_type": "code",
   "execution_count": 4,
   "id": "6d5c572d",
   "metadata": {},
   "outputs": [
    {
     "data": {
      "text/plain": [
       "<stable_baselines3.ppo.ppo.PPO at 0x7f8e77f57400>"
      ]
     },
     "execution_count": 4,
     "metadata": {},
     "output_type": "execute_result"
    }
   ],
   "source": [
    "from stable_baselines3 import PPO\n",
    "from stable_baselines3.common.env_util import make_vec_env\n",
    "\n",
    "#初始化模型\n",
    "model = PPO(\n",
    "    policy='MlpPolicy',\n",
    "    env=make_vec_env(MyWrapper, n_envs=8),  #使用N个环境同时训练\n",
    "    learning_rate=1e-3,\n",
    "    n_steps=1024,  #运行N步后执行更新,buffer_size=n_steps*环境数量\n",
    "    batch_size=64,  #采样数据量\n",
    "    n_epochs=16,  #每次采样后训练的次数\n",
    "    gamma=0.99,\n",
    "    verbose=0)\n",
    "\n",
    "model"
   ]
  },
  {
   "cell_type": "code",
   "execution_count": 5,
   "id": "22afd2bc",
   "metadata": {},
   "outputs": [
    {
     "name": "stderr",
     "output_type": "stream",
     "text": [
      "/root/anaconda3/envs/pt39/lib/python3.9/site-packages/stable_baselines3/common/evaluation.py:67: UserWarning: Evaluation environment is not wrapped with a ``Monitor`` wrapper. This may result in reporting modified episode lengths and rewards, if other wrappers happen to modify these. Consider wrapping environment first with ``Monitor`` wrapper.\n",
      "  warnings.warn(\n"
     ]
    },
    {
     "data": {
      "text/plain": [
       "(-178.7361532162933, 110.09158070393796)"
      ]
     },
     "execution_count": 5,
     "metadata": {},
     "output_type": "execute_result"
    }
   ],
   "source": [
    "from stable_baselines3.common.evaluation import evaluate_policy\n",
    "\n",
    "evaluate_policy(model, env, n_eval_episodes=20, deterministic=False)"
   ]
  },
  {
   "cell_type": "code",
   "execution_count": 6,
   "id": "75e0b593",
   "metadata": {
    "scrolled": false
   },
   "outputs": [
    {
     "data": {
      "application/vnd.jupyter.widget-view+json": {
       "model_id": "de24ea3e3b4449519e427b145ac9e50d",
       "version_major": 2,
       "version_minor": 0
      },
      "text/plain": [
       "Output()"
      ]
     },
     "metadata": {},
     "output_type": "display_data"
    },
    {
     "data": {
      "text/html": [
       "<pre style=\"white-space:pre;overflow-x:auto;line-height:normal;font-family:Menlo,'DejaVu Sans Mono',consolas,'Courier New',monospace\"></pre>\n"
      ],
      "text/plain": []
     },
     "metadata": {},
     "output_type": "display_data"
    },
    {
     "data": {
      "text/html": [
       "<pre style=\"white-space:pre;overflow-x:auto;line-height:normal;font-family:Menlo,'DejaVu Sans Mono',consolas,'Courier New',monospace\">\n",
       "</pre>\n"
      ],
      "text/plain": [
       "\n"
      ]
     },
     "metadata": {},
     "output_type": "display_data"
    }
   ],
   "source": [
    "# #训练\n",
    "# model.learn(100_0000, progress_bar=True)\n",
    "\n",
    "# #保存模型\n",
    "# model.save('save/1.PPO.Lunar Lander')"
   ]
  },
  {
   "cell_type": "code",
   "execution_count": 7,
   "id": "cdaaf12a",
   "metadata": {},
   "outputs": [
    {
     "data": {
      "text/plain": [
       "(285.89778153869355, 18.83290154040063)"
      ]
     },
     "execution_count": 7,
     "metadata": {},
     "output_type": "execute_result"
    }
   ],
   "source": [
    "#加载模型\n",
    "model = PPO.load('save/1.PPO.Lunar Lander')\n",
    "\n",
    "evaluate_policy(model, env, n_eval_episodes=20, deterministic=False)"
   ]
  },
  {
   "cell_type": "code",
   "execution_count": 11,
   "id": "414e1478",
   "metadata": {},
   "outputs": [
    {
     "data": {
      "image/png": "[encoded data removed]",
      "text/plain": [
       "<Figure size 300x300 with 1 Axes>"
      ]
     },
     "metadata": {},
     "output_type": "display_data"
    },
    {
     "name": "stdout",
     "output_type": "stream",
     "text": [
      "289.82857258297884 164 [0.17620373294079286, 0.16220330258954732, 0.0809007627084111, 0.5073526572152229, -0.499818711383341, 0.631813851261428, -0.3545947211171665, -1.0070048348956107, -1.2064146996285956, -1.2169994902541816, -0.6563874240848679, -0.9358495901069819, -1.3030842499314577, -1.6067412620130017, -1.7970015642710837, -2.254420794451903, -2.231539032546749, -2.205789552557718, -2.5365759946691626, -2.282116613951216, -1.4149922810397288, -1.9876987395138588, -1.3249989071920811, -1.7659053020176145, 1.666890153202172, 1.9893991781921556, -1.8317427412715404, -1.7935768317087764, 3.718253556270821, 4.812593414717679, 1.8010588588381438, -2.030756017884015, 0.7638008318559855, 1.5398837337343252, 0.5563416956563685, 1.504666611317259, 0.9328736743401123, 2.4066371697561637, 2.4339757917254135, 3.7253142136588737, 0.6640342835368187, -1.8912184377620906, 3.937421031608136, 1.7546994826778757, -1.8092980439585336, -1.5488961155926677, 1.4564751575926038, 3.7991907734726285, -1.375493735397838, 5.193769928679058, 0.9691473010023628, 4.484237967642753, -1.07618119499861, 3.7449542848270996, 2.9040933507245486, -0.7645384379238738, -0.5343637825205565, -0.1915564981871671, 1.5491578669855073, 4.101642926657843, 4.870058163939302, 4.60152532641784, 2.4592290019183, -0.18548547891506814, 4.26667861984559, 3.6389041308888865, 0.11703002861705272, 2.8872986734797736, 2.5353989862654887, 3.2720754397344196, 0.5436502174018483, 2.4197229592620717, 0.8921832891921053, 3.2944280772602896, 3.2440329136120427, 1.575735596435291, 4.11394246313341, 3.8819899635459025, 3.5458637286318124, -0.7115064339839126, 4.7951001416482315, 5.29045990110225, 3.561281808350512, 2.1013568632275907, 0.11453567963613523, 4.077946209837887, 0.3655229559367268, -0.7762954879536028, 5.145385390211072, 0.1878170471558616, 4.719804128252631, -1.0758831283211368, -1.0084278712284191, 3.410120466534477, 4.585339091341933, -1.4793273806360634, 1.298222129030745, 2.2316751627464386, 0.4444026427729398, 0.9833145913791952, -1.59007905117103, 3.761634558558609, 2.9070058368535756, 0.6025865409708444, 2.8344166243136444, 2.0237026522467874, 1.9313969166816463, -0.437151427836919, 2.1580778273729466, 1.5076603061695166, 11.679729275874049, 4.063535019699015, 3.0566637266701178, 14.41883692791293, 3.6649399141126304, 1.9620256761917865, 1.0906909200810102, 2.460982053817735, 2.2681938786666342, 0.8950406726262621, 0.4056605930238817, 1.192246572956763, 2.6824677542378033, 1.5483633530284493, 1.3169207764915178, 0.9587819756643157, 0.6966730182791672, 0.6325270778729486, 0.7030034573383013, 0.7842098941212132, 0.7976223757972036, 0.75315560524494, 0.7160207129422336, 0.6842316168979892, 0.6014157921158869, 0.5552146935315285, 1.1757694033049013, 0.5694298615085458, 0.5732318599538004, 0.41948490959509677, -0.13612610990629292, 0.0698970788219686, 0.09022003887443653, -0.017145188557561752, 0.007025564501496717, 0.01570116668681898, 0.0005982789991794135, -0.00020920799096479925, 0.0024772312676883956, 0.0008528925265451903, -0.00024343285788397395, 0.00037058356794617, 0.00028048134481828413, -9.24722426152158e-05, 4.4773093414107734e-05, 5.8161844370019367e-05, -8.25846479379777e-06, 3.301119603449365e-06, 8.71867096918777e-06, 3.694757197081344e-06, -3.324168753593426e-06, -8.715796262492859e-08, 5.942669307756887e-07, 100]\n"
     ]
    }
   ],
   "source": [
    "from IPython import display\n",
    "import random\n",
    "\n",
    "\n",
    "def test():\n",
    "    state = env.reset()\n",
    "    reward_sum = []\n",
    "    over = False\n",
    "    while not over:\n",
    "        action, _ = model.predict(state)\n",
    "        state, reward, over, _ = env.step(action)\n",
    "        reward_sum.append(reward)\n",
    "\n",
    "        if len(reward_sum) % 5 == 0:\n",
    "            display.clear_output(wait=True)\n",
    "            show()\n",
    "\n",
    "    print(sum(reward_sum), len(reward_sum), reward_sum)\n",
    "\n",
    "\n",
    "test()"
   ]
  }
 ],
 "metadata": {
  "kernelspec": {
   "display_name": "Python 3 (ipykernel)",
   "language": "python",
   "name": "python3"
  },
  "language_info": {
   "codemirror_mode": {
    "name": "ipython",
    "version": 3
   },
   "file_extension": ".py",
   "mimetype": "text/x-python",
   "name": "python",
   "nbconvert_exporter": "python",
   "pygments_lexer": "ipython3",
   "version": "3.9.15"
  }
 },
 "nbformat": 4,
 "nbformat_minor": 5
}
