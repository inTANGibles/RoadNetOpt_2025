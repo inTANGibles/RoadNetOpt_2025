{
 "cells": [
  {
   "cell_type": "code",
   "execution_count": 1,
   "id": "5d244f26",
   "metadata": {},
   "outputs": [
    {
     "data": {
      "text/plain": [
       "array([-0.9998288 , -0.01850212, -0.4979533 ], dtype=float32)"
      ]
     },
     "execution_count": 1,
     "metadata": {},
     "output_type": "execute_result"
    }
   ],
   "source": [
    "import gym\n",
    "\n",
    "\n",
    "#定义环境\n",
    "class MyWrapper(gym.Wrapper):\n",
    "\n",
    "    def __init__(self):\n",
    "        env = gym.make('Pendulum-v1', render_mode='rgb_array')\n",
    "        super().__init__(env)\n",
    "        self.env = env\n",
    "        self.step_n = 0\n",
    "\n",
    "    def reset(self):\n",
    "        state, _ = self.env.reset()\n",
    "        self.step_n = 0\n",
    "        return state\n",
    "\n",
    "    def step(self, action):\n",
    "        state, reward, done, _, info = self.env.step(action)\n",
    "        self.step_n += 1\n",
    "        if self.step_n >= 200:\n",
    "            done = True\n",
    "        return state, reward, done, info\n",
    "\n",
    "\n",
    "env = MyWrapper()\n",
    "\n",
    "env.reset()"
   ]
  },
  {
   "cell_type": "code",
   "execution_count": 2,
   "id": "b77c66d3",
   "metadata": {},
   "outputs": [
    {
     "data": {
      "image/png": "[encoded data removed]",
      "text/plain": [
       "<Figure size 300x300 with 1 Axes>"
      ]
     },
     "metadata": {},
     "output_type": "display_data"
    }
   ],
   "source": [
    "from matplotlib import pyplot as plt\n",
    "\n",
    "%matplotlib inline\n",
    "\n",
    "\n",
    "#打印游戏\n",
    "def show():\n",
    "    plt.figure(figsize=(3, 3))\n",
    "    plt.imshow(env.render())\n",
    "    plt.show()\n",
    "\n",
    "\n",
    "show()"
   ]
  },
  {
   "cell_type": "code",
   "execution_count": 3,
   "id": "f489de60",
   "metadata": {},
   "outputs": [
    {
     "name": "stdout",
     "output_type": "stream",
     "text": [
      "env.observation_space= Box([-1. -1. -8.], [1. 1. 8.], (3,), float32)\n",
      "env.action_space= Box(-2.0, 2.0, (1,), float32)\n",
      "state= [ 0.9314149  -0.3639592   0.71713585]\n",
      "action= [-1.0667996]\n",
      "next_state= [ 0.9364916  -0.35068998  0.2841465 ]\n",
      "reward= -0.19133394317625788\n",
      "done= False\n",
      "info= {}\n"
     ]
    }
   ],
   "source": [
    "#认识游戏环境\n",
    "def test_env():\n",
    "    print('env.observation_space=', env.observation_space)\n",
    "    print('env.action_space=', env.action_space)\n",
    "\n",
    "    state = env.reset()\n",
    "    action = env.action_space.sample()\n",
    "    next_state, reward, done, info = env.step(action)\n",
    "\n",
    "    print('state=', state)\n",
    "    print('action=', action)\n",
    "    print('next_state=', next_state)\n",
    "    print('reward=', reward)\n",
    "    print('done=', done)\n",
    "    print('info=', info)\n",
    "\n",
    "\n",
    "test_env()"
   ]
  },
  {
   "cell_type": "code",
   "execution_count": 4,
   "id": "6d5c572d",
   "metadata": {},
   "outputs": [
    {
     "data": {
      "text/plain": [
       "<stable_baselines3.a2c.a2c.A2C at 0x7fd8f0ac7a90>"
      ]
     },
     "execution_count": 4,
     "metadata": {},
     "output_type": "execute_result"
    }
   ],
   "source": [
    "from stable_baselines3 import A2C\n",
    "from stable_baselines3.common.env_util import make_vec_env\n",
    "\n",
    "#初始化模型\n",
    "model = A2C(\n",
    "    policy='MlpPolicy',\n",
    "    env=make_vec_env(MyWrapper, n_envs=8),  #使用N个环境同时训练\n",
    "    learning_rate=1e-3,\n",
    "    n_steps=5,  #运行N步后执行更新,batch_size=n_steps*环境数量\n",
    "    gamma=0.9,\n",
    "    verbose=0)\n",
    "\n",
    "model"
   ]
  },
  {
   "cell_type": "code",
   "execution_count": 5,
   "id": "22afd2bc",
   "metadata": {},
   "outputs": [
    {
     "name": "stderr",
     "output_type": "stream",
     "text": [
      "/root/anaconda3/envs/pt39/lib/python3.9/site-packages/stable_baselines3/common/evaluation.py:67: UserWarning: Evaluation environment is not wrapped with a ``Monitor`` wrapper. This may result in reporting modified episode lengths and rewards, if other wrappers happen to modify these. Consider wrapping environment first with ``Monitor`` wrapper.\n",
      "  warnings.warn(\n"
     ]
    },
    {
     "data": {
      "text/plain": [
       "(-1247.169250970462, 287.27973636828875)"
      ]
     },
     "execution_count": 5,
     "metadata": {},
     "output_type": "execute_result"
    }
   ],
   "source": [
    "from stable_baselines3.common.evaluation import evaluate_policy\n",
    "\n",
    "evaluate_policy(model, env, n_eval_episodes=20, deterministic=False)"
   ]
  },
  {
   "cell_type": "code",
   "execution_count": 6,
   "id": "75e0b593",
   "metadata": {},
   "outputs": [],
   "source": [
    "# #训练\n",
    "# model.learn(200_0000, progress_bar=True)\n",
    "\n",
    "# #保存模型\n",
    "# model.save('save/3.A2C.Pendulum')"
   ]
  },
  {
   "cell_type": "code",
   "execution_count": 7,
   "id": "b05f4766",
   "metadata": {},
   "outputs": [
    {
     "data": {
      "text/plain": [
       "(-319.25174775233245, 237.00185868279056)"
      ]
     },
     "execution_count": 7,
     "metadata": {},
     "output_type": "execute_result"
    }
   ],
   "source": [
    "#加载模型\n",
    "model = A2C.load('save/3.A2C.Pendulum')\n",
    "\n",
    "evaluate_policy(model, env, n_eval_episodes=20, deterministic=False)"
   ]
  },
  {
   "cell_type": "code",
   "execution_count": 13,
   "id": "414e1478",
   "metadata": {},
   "outputs": [
    {
     "data": {
      "image/png": "[encoded data removed]",
      "text/plain": [
       "<Figure size 300x300 with 1 Axes>"
      ]
     },
     "metadata": {},
     "output_type": "display_data"
    },
    {
     "name": "stdout",
     "output_type": "stream",
     "text": [
      "-552.9787354795611 200 [-6.403364529886047, -6.559451885950866, -6.748173157209415, -6.963253276383593, -7.197324400447656, -7.4421762566494225, -7.685702878753752, -8.011315249067252, -8.459531587420715, -9.098510053384656, -9.925879078787965, -10.149264029395011, -9.445930569893216, -8.689868121075914, -7.904861475428319, -7.117850854349222, -6.356961530227772, -5.648779500529242, -5.015805630954743, -4.474912934108402, -4.037135342960264, -3.708585894872944, -3.4920001320475516, -3.3883667575060783, -3.3982339678299924, -3.522440641779429, -3.762148023874511, -4.115998200501329, -4.639151657699833, -5.4589390140439065, -6.6816527282607066, -8.287440847676086, -10.209750584506137, -12.33837108003363, -11.785390804544472, -10.322449551850136, -8.805717924324806, -7.1012635254092915, -5.389966009745247, -4.266574138158974, -3.4008778125979338, -2.6928045577995054, -2.1295936927604435, -1.6917974921198649, -1.3581702708800174, -1.1087792548181659, -0.9265868823311403, -0.7980010230152399, -0.7128536762365798, -0.6641396038902014, -0.6477205364824076, -0.662109087973261, -0.7083888961657474, -0.7902925866671782, -0.9144336623506819, -1.0906589569141147, -1.3324408225830904, -1.6571481016393907, -2.085911082317724, -2.642634295074285, -3.351565255568252, -4.232840476727187, -5.292723443695252, -6.707693066662953, -8.256759335347166, -9.78448281885315, -11.300400123255537, -12.262561470865409, -10.632979205165002, -9.342451692801092, -8.025659169073716, -6.741241239992302, -5.546370747534272, -4.484445233067842, -3.5786965943047804, -2.8328340184437493, -2.236183153850967, -1.7700089737166753, -1.412827086888545, -1.143929748993989, -0.9452657655540135, -0.8021583535109563, -0.7033492667412954, -0.640734052054951, -0.6090197932604935, -0.605435764018409, -0.6295633818057137, -0.6833152415529405, -0.7710716471480528, -0.8999653007294907, -1.0802791099617999, -1.3258757018861729, -1.6544962409801687, -2.0876397941033837, -2.6495695104534325, -3.364843084391339, -4.2537800020214265, -5.32572028877216, -6.567075301763922, -8.314477013651018, -10.664910318079897, -13.28737053135712, -13.29305088014477, -11.553682094456112, -9.564742829354806, -7.220396099622464, -5.259723496851284, -4.012779583373551, -3.125618920979947, -2.415043087535065, -1.8593990873247748, -1.4330380094179997, -1.1106891631634652, -0.8704834926403211, -0.6953126062663473, -0.5701063780449889, -0.43740088757308965, -0.2814406958600056, -0.17301751710489868, -0.09424878476279315, -0.052793639723829396, -0.02848832992747617, -0.019349019443678662, -0.013641034765059843, -0.00889911077293328, -0.005378319616842694, -0.0038553754861721527, -0.003030665172404705, -0.002297663157483803, -0.0017788564655346418, -0.001502406380101694, -0.0012849365687527116, -0.0009765607553700701, -0.000902358492032804, -0.0007777253114863694, -0.0006693808578542544, -0.0007023542446344618, -0.0006469077370246669, -0.000617331647270525, -0.0005807202343211575, -0.0007112612322553668, -0.0005698962610725659, -0.000605942261589215, -0.0005453168056284277, -0.0005021330589351212, -0.0004839684888703656, -0.0004796299793731146, -0.0004496601152976743, -0.00042959433022526314, -0.00041846047563522077, -0.00040842441128936894, -0.0005392911990528344, -0.00043502517589950277, -0.0005619842033430516, -0.00046294484522016303, -0.00046284426966360125, -0.0006491328379841488, -0.0005347761156479717, -0.0006079417289124552, -0.00052303300736512, -0.000575562388018287, -0.0005702801795887955, -0.0006382720189492246, -0.0005800461438617601, -0.000652896601372401, -0.0005894599365288421, -0.0004888018605945698, -0.0006479462971399484, -0.0005235105151487691, -0.0006093923260457232, -0.0005087482036524032, -0.0005818800949996132, -0.0006035512694374148, -0.0005516848311199498, -0.0005075725568097035, -0.0004865052465299227, -0.0005299420132831919, -0.0005313521159214184, -0.00048159235351189964, -0.00046782832720119533, -0.0004733587608534474, -0.0005288968176221472, -0.0005715594870956539, -0.0005621842795695428, -0.0005812726888651275, -0.0005238569283054104, -0.0005017928572677193, -0.00048779569477528024, -0.0005796981739451, -0.0005513252729213517, -0.0005194369867877167, -0.0005218780541503228, -0.0004859298507840392, -0.0005432498823225844, -0.000533616751217941, -0.0005199808604596199, -0.0005052143066023264, -0.0004950109796168234, -0.0004121028623572278, -0.0005784799940535202]\n"
     ]
    }
   ],
   "source": [
    "from IPython import display\n",
    "import random\n",
    "\n",
    "\n",
    "def test():\n",
    "    state = env.reset()\n",
    "    reward_sum = []\n",
    "    over = False\n",
    "    while not over:\n",
    "        action, _ = model.predict(state)\n",
    "        state, reward, over, _ = env.step(action)\n",
    "        reward_sum.append(reward)\n",
    "\n",
    "        if len(reward_sum) % 5 == 0:\n",
    "            display.clear_output(wait=True)\n",
    "            show()\n",
    "\n",
    "    print(sum(reward_sum), len(reward_sum), reward_sum)\n",
    "\n",
    "\n",
    "test()"
   ]
  }
 ],
 "metadata": {
  "kernelspec": {
   "display_name": "Python 3 (ipykernel)",
   "language": "python",
   "name": "python3"
  },
  "language_info": {
   "codemirror_mode": {
    "name": "ipython",
    "version": 3
   },
   "file_extension": ".py",
   "mimetype": "text/x-python",
   "name": "python",
   "nbconvert_exporter": "python",
   "pygments_lexer": "ipython3",
   "version": "3.9.15"
  }
 },
 "nbformat": 4,
 "nbformat_minor": 5
}
