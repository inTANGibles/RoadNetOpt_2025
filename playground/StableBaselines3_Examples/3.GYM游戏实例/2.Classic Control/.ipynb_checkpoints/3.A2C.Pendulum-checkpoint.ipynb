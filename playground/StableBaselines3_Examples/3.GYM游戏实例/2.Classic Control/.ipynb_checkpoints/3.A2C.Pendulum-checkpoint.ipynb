{
 "cells": [
  {
   "cell_type": "code",
   "execution_count": 1,
   "id": "5d244f26",
   "metadata": {},
   "outputs": [
    {
     "data": {
      "text/plain": [
       "array([ 0.4015109, -0.9158542, -0.5937396], dtype=float32)"
      ]
     },
     "execution_count": 1,
     "metadata": {},
     "output_type": "execute_result"
    }
   ],
   "source": [
    "import gym\n",
    "\n",
    "\n",
    "#定义环境\n",
    "class MyWrapper(gym.Wrapper):\n",
    "\n",
    "    def __init__(self):\n",
    "        env = gym.make('Pendulum-v1', render_mode='rgb_array')\n",
    "        super().__init__(env)\n",
    "        self.env = env\n",
    "        self.step_n = 0\n",
    "\n",
    "    def reset(self):\n",
    "        state, _ = self.env.reset()\n",
    "        self.step_n = 0\n",
    "        return state\n",
    "\n",
    "    def step(self, action):\n",
    "        state, reward, done, _, info = self.env.step(action)\n",
    "        self.step_n += 1\n",
    "        if self.step_n >= 200:\n",
    "            done = True\n",
    "        return state, reward, done, info\n",
    "\n",
    "\n",
    "env = MyWrapper()\n",
    "\n",
    "env.reset()"
   ]
  },
  {
   "cell_type": "code",
   "execution_count": 2,
   "id": "b77c66d3",
   "metadata": {},
   "outputs": [
    {
     "data": {
      "image/png": "[encoded data removed]",
      "text/plain": [
       "<Figure size 300x300 with 1 Axes>"
      ]
     },
     "metadata": {},
     "output_type": "display_data"
    }
   ],
   "source": [
    "from matplotlib import pyplot as plt\n",
    "\n",
    "%matplotlib inline\n",
    "\n",
    "\n",
    "#打印游戏\n",
    "def show():\n",
    "    plt.figure(figsize=(3, 3))\n",
    "    plt.imshow(env.render())\n",
    "    plt.show()\n",
    "\n",
    "\n",
    "show()"
   ]
  },
  {
   "cell_type": "code",
   "execution_count": 3,
   "id": "f489de60",
   "metadata": {},
   "outputs": [
    {
     "name": "stdout",
     "output_type": "stream",
     "text": [
      "env.observation_space= Box([-1. -1. -8.], [1. 1. 8.], (3,), float32)\n",
      "env.action_space= Box(-2.0, 2.0, (1,), float32)\n",
      "state= [-0.6658319  -0.74610174  0.6986953 ]\n",
      "action= [0.21158014]\n",
      "next_state= [-0.6594339  -0.75176257  0.170856  ]\n",
      "reward= -5.336123894632103\n",
      "done= False\n",
      "info= {}\n"
     ]
    }
   ],
   "source": [
    "#认识游戏环境\n",
    "def test_env():\n",
    "    print('env.observation_space=', env.observation_space)\n",
    "    print('env.action_space=', env.action_space)\n",
    "\n",
    "    state = env.reset()\n",
    "    action = env.action_space.sample()\n",
    "    next_state, reward, done, info = env.step(action)\n",
    "\n",
    "    print('state=', state)\n",
    "    print('action=', action)\n",
    "    print('next_state=', next_state)\n",
    "    print('reward=', reward)\n",
    "    print('done=', done)\n",
    "    print('info=', info)\n",
    "\n",
    "\n",
    "test_env()"
   ]
  },
  {
   "cell_type": "code",
   "execution_count": 4,
   "id": "6d5c572d",
   "metadata": {},
   "outputs": [
    {
     "data": {
      "text/plain": [
       "<stable_baselines3.a2c.a2c.A2C at 0x7f9dd4e773d0>"
      ]
     },
     "execution_count": 4,
     "metadata": {},
     "output_type": "execute_result"
    }
   ],
   "source": [
    "from stable_baselines3 import A2C\n",
    "from stable_baselines3.common.env_util import make_vec_env\n",
    "\n",
    "#初始化模型\n",
    "model = A2C(\n",
    "    policy='MlpPolicy',\n",
    "    env=make_vec_env(MyWrapper, n_envs=8),  #使用N个环境同时训练\n",
    "    learning_rate=1e-3,\n",
    "    n_steps=5,  #运行N步后执行更新,batch_size=n_steps*环境数量\n",
    "    gamma=0.9,\n",
    "    verbose=0)\n",
    "\n",
    "model"
   ]
  },
  {
   "cell_type": "code",
   "execution_count": 5,
   "id": "22afd2bc",
   "metadata": {},
   "outputs": [
    {
     "name": "stderr",
     "output_type": "stream",
     "text": [
      "/root/anaconda3/envs/pt39/lib/python3.9/site-packages/stable_baselines3/common/evaluation.py:67: UserWarning: Evaluation environment is not wrapped with a ``Monitor`` wrapper. This may result in reporting modified episode lengths and rewards, if other wrappers happen to modify these. Consider wrapping environment first with ``Monitor`` wrapper.\n",
      "  warnings.warn(\n"
     ]
    },
    {
     "data": {
      "text/plain": [
       "(-1298.6173694218974, 316.6596681170837)"
      ]
     },
     "execution_count": 5,
     "metadata": {},
     "output_type": "execute_result"
    }
   ],
   "source": [
    "from stable_baselines3.common.evaluation import evaluate_policy\n",
    "\n",
    "evaluate_policy(model, env, n_eval_episodes=20, deterministic=False)"
   ]
  },
  {
   "cell_type": "code",
   "execution_count": 6,
   "id": "75e0b593",
   "metadata": {},
   "outputs": [],
   "source": [
    "# #训练\n",
    "# model.learn(200_0000, progress_bar=True)\n",
    "\n",
    "# #保存模型\n",
    "# model.save('save/3.A2C.Pendulum')"
   ]
  },
  {
   "cell_type": "code",
   "execution_count": 7,
   "id": "b05f4766",
   "metadata": {},
   "outputs": [
    {
     "data": {
      "text/plain": [
       "(-272.44372607399566, 229.55795657113933)"
      ]
     },
     "execution_count": 7,
     "metadata": {},
     "output_type": "execute_result"
    }
   ],
   "source": [
    "#加载模型\n",
    "model = A2C.load('save/3.A2C.Pendulum')\n",
    "\n",
    "evaluate_policy(model, env, n_eval_episodes=20, deterministic=False)"
   ]
  },
  {
   "cell_type": "code",
   "execution_count": 8,
   "id": "414e1478",
   "metadata": {},
   "outputs": [
    {
     "data": {
      "image/png": "[encoded data removed]",
      "text/plain": [
       "<Figure size 300x300 with 1 Axes>"
      ]
     },
     "metadata": {},
     "output_type": "display_data"
    },
    {
     "name": "stdout",
     "output_type": "stream",
     "text": [
      "-790.1836060086542 200 [-7.668710652582663, -7.749618011644003, -7.832646254313315, -7.921582247022011, -8.003297012144314, -8.077874110724991, -8.138879355754458, -8.174623073417326, -8.185969080012654, -8.172693743584139, -8.135336800842172, -8.075243444865041, -7.994511617168069, -7.895918790474709, -7.782829853259477, -7.659087555225119, -7.528887340017541, -7.396639297729064, -7.26682123210802, -7.143828101645566, -7.031823942575098, -6.934602488533198, -6.855461965059504, -6.797098135017774, -6.761518003848353, -6.749975141379802, -6.76292672826225, -6.800012352048866, -6.860055140765672, -6.940574601792137, -7.046412540429422, -7.17526720178951, -7.335488503377806, -7.5370220590869454, -7.790995238546467, -8.136133868918487, -8.620262329937702, -9.324069077448666, -10.18820889170464, -9.946653556031766, -9.229233150624875, -8.465572850169128, -7.6803721318014535, -6.901019519229578, -6.15535633710814, -5.468933875357536, -4.862706300182905, -4.351861004713439, -3.9459544357296754, -3.6500439653947434, -3.4662853646328453, -3.3954880621735906, -3.4382644044732436, -3.5955624022224613, -3.8684851494372223, -4.257383979227022, -4.760307054835037, -5.37103036691801, -6.077099247883329, -6.858502760671014, -7.687651814932585, -8.531080215429856, -9.350259050715218, -10.2163222614294, -10.434927131761976, -9.559301045603192, -8.63141292496528, -7.682078979715462, -6.746338851384875, -5.85936504083393, -5.05177069284245, -4.3461838601999325, -3.7561297609220556, -3.287106491850184, -2.9390023528098004, -2.7088854654409644, -2.593466676295839, -2.5908826293384934, -2.701684791194984, -2.929015062439197, -3.277945069176583, -3.7539304304596284, -4.360335865584199, -5.09230186263472, -6.20091369039514, -7.7699621867245, -9.726336472833163, -11.929851876208005, -12.528425322539535, -11.022224223402302, -9.440669068328448, -7.642173026188523, -5.770928609815662, -4.47385733833554, -3.549974276682413, -2.7911487464086773, -2.1851777205497687, -1.7116379677600846, -1.3474678216487315, -1.0705731204708415, -0.8616635776545981, -0.7048635561824629, -0.5876200054820401, -0.5002841573888218, -0.43559526401020643, -0.38818553478525925, -0.35415759212511627, -0.33074871228212516, -0.3160785980279164, -0.30897105564659344, -0.30883940436206736, -0.31562770292612213, -0.32980336382307873, -0.35240069727589235, -0.3851190389804301, -0.43048310325208783, -0.4920765927900712, -0.5748618370783618, -0.6855961574694751, -0.8333456913123849, -1.0300725364296528, -1.2912204845012127, -1.6361343120343919, -2.088005882810187, -2.6728543231055744, -3.416878722512853, -4.341538532344609, -5.452364670474303, -7.030119509303428, -8.645208835867317, -10.245461559674203, -11.818846654332988, -12.089244629433344, -10.465499399233865, -9.11928706525043, -7.76082348830908, -6.453446558631715, -5.254958183779934, -4.205356546529258, -3.32220826817669, -2.6033319764130876, -2.0332567772849863, -1.5896895915248956, -1.2468149620141518, -0.9898501782146729, -0.7956275844704281, -0.6490825002435637, -0.5383875000526032, -0.45447004453248124, -0.3904770062463625, -0.34128093994968256, -0.3030646102081718, -0.27298958107907356, -0.24894074767142504, -0.22933394893543102, -0.21297359108050035, -0.1989489397898267, -0.18656008903721305, -0.1752669947036338, -0.16465717619603978, -0.15442975085338748, -0.14439550168594434, -0.13449489701112446, -0.12483867102851705, -0.11577913856542255, -0.10802542079879869, -0.10213504112917537, -0.09616817789294434, -0.08377500492409702, -0.06826150198296893, -0.04873623644403276, -0.03233609773007975, -0.021046060565000517, -0.0122274915503713, -0.007968441401784985, -0.005190988878207995, -0.0035700227514502817, -0.0010981002299608814, -0.0009092110328009378, -0.00101564986314577, -0.0006121541952440779, -0.00030207249421703456, -0.0002726965584526197, -0.0004406254798147084, -0.00024227335620224643, -0.00036347267278441845, -0.0004152701506383153, -0.00029169070966805836, -0.0003241118770540448, -0.0005565294184578679, -0.0005448178054003114, -0.0004383884675636466, -0.0005179247321218769, -0.00045003265004908385, -0.0004897515816138963, -0.0004696844372904799, -0.000521892856330205, -0.0004556934572858486, -0.00047151267109808145, -0.00044596139975303626]\n"
     ]
    }
   ],
   "source": [
    "from IPython import display\n",
    "import random\n",
    "\n",
    "\n",
    "def test():\n",
    "    state = env.reset()\n",
    "    reward_sum = []\n",
    "    over = False\n",
    "    while not over:\n",
    "        action, _ = model.predict(state)\n",
    "        state, reward, over, _ = env.step(action)\n",
    "        reward_sum.append(reward)\n",
    "\n",
    "        if len(reward_sum) % 5 == 0:\n",
    "            display.clear_output(wait=True)\n",
    "            show()\n",
    "\n",
    "    print(sum(reward_sum), len(reward_sum), reward_sum)\n",
    "\n",
    "\n",
    "test()"
   ]
  }
 ],
 "metadata": {
  "kernelspec": {
   "display_name": "Python 3 (ipykernel)",
   "language": "python",
   "name": "python3"
  },
  "language_info": {
   "codemirror_mode": {
    "name": "ipython",
    "version": 3
   },
   "file_extension": ".py",
   "mimetype": "text/x-python",
   "name": "python",
   "nbconvert_exporter": "python",
   "pygments_lexer": "ipython3",
   "version": "3.9.15"
  }
 },
 "nbformat": 4,
 "nbformat_minor": 5
}
