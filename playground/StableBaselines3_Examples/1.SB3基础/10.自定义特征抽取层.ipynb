{
 "cells": [
  {
   "cell_type": "code",
   "execution_count": 6,
   "metadata": {
    "ExecuteTime": {
     "start_time": "2024-04-15T10:41:13.401205Z",
     "end_time": "2024-04-15T10:41:13.422750Z"
    }
   },
   "outputs": [
    {
     "data": {
      "text/plain": "(array([-0.01998622,  0.03740019, -0.04420668, -0.00132413], dtype=float32),\n {})"
     },
     "execution_count": 6,
     "metadata": {},
     "output_type": "execute_result"
    }
   ],
   "source": [
    "import gymnasium as gym\n",
    "\n",
    "\n",
    "#定义环境\n",
    "class MyWrapper(gym.Wrapper):\n",
    "\n",
    "    def __init__(self):\n",
    "        env = gym.make('CartPole-v1')\n",
    "        super().__init__(env)\n",
    "        self.env = env\n",
    "\n",
    "    def reset(self, seed=None, options=None):\n",
    "        state, info = self.env.reset()\n",
    "        return state, info\n",
    "\n",
    "    def step(self, action):\n",
    "        state, reward, done, truncated, info = self.env.step(action)\n",
    "        return state, reward, done, truncated, info\n",
    "\n",
    "\n",
    "env = MyWrapper()\n",
    "\n",
    "env.reset()"
   ]
  },
  {
   "cell_type": "code",
   "execution_count": 7,
   "outputs": [
    {
     "name": "stdout",
     "output_type": "stream",
     "text": [
      "(4,)\n"
     ]
    }
   ],
   "source": [
    "state, _ = env.reset()\n",
    "print(state.shape)"
   ],
   "metadata": {
    "collapsed": false,
    "ExecuteTime": {
     "start_time": "2024-04-15T10:41:14.277658Z",
     "end_time": "2024-04-15T10:41:14.292170Z"
    }
   }
  },
  {
   "cell_type": "code",
   "execution_count": 3,
   "metadata": {
    "scrolled": false,
    "ExecuteTime": {
     "start_time": "2024-04-14T17:38:55.891863Z",
     "end_time": "2024-04-14T17:38:58.217203Z"
    }
   },
   "outputs": [
    {
     "data": {
      "text/plain": "<stable_baselines3.ppo.ppo.PPO at 0x1e986579970>"
     },
     "execution_count": 3,
     "metadata": {},
     "output_type": "execute_result"
    }
   ],
   "source": [
    "import torch\n",
    "from stable_baselines3 import PPO\n",
    "from stable_baselines3.common.torch_layers import BaseFeaturesExtractor\n",
    "\n",
    "\n",
    "#自定义特征抽取层\n",
    "class CustomCNN(BaseFeaturesExtractor):\n",
    "    def __init__(self, observation_space, hidden_dim):\n",
    "        super().__init__(observation_space, hidden_dim)\n",
    "\n",
    "        self.sequential = torch.nn.Sequential(\n",
    "\n",
    "            #[b, 4, 1, 1] -> [b, h, 1, 1]\n",
    "            torch.nn.Conv2d(in_channels=observation_space.shape[0],\n",
    "                            out_channels=hidden_dim,\n",
    "                            kernel_size=1,\n",
    "                            stride=1,\n",
    "                            padding=0),\n",
    "            torch.nn.ReLU(),\n",
    "\n",
    "            #[b, h, 1, 1] -> [b, h, 1, 1]\n",
    "            torch.nn.Conv2d(hidden_dim,\n",
    "                            hidden_dim,\n",
    "                            kernel_size=1,\n",
    "                            stride=1,\n",
    "                            padding=0),\n",
    "            torch.nn.ReLU(),\n",
    "\n",
    "            #[b, h, 1, 1] -> [b, h]\n",
    "            torch.nn.Flatten(),\n",
    "\n",
    "            #[b, h] -> [b, h]\n",
    "            torch.nn.Linear(hidden_dim, hidden_dim),\n",
    "            torch.nn.ReLU(),\n",
    "        )\n",
    "\n",
    "    def forward(self, state):\n",
    "        b = state.shape[0]\n",
    "        state = state.reshape(b, -1, 1, 1)\n",
    "        return self.sequential(state)\n",
    "\n",
    "\n",
    "model = PPO('CnnPolicy',\n",
    "            env,\n",
    "            policy_kwargs={\n",
    "                'features_extractor_class': CustomCNN,\n",
    "                'features_extractor_kwargs': {\n",
    "                    'hidden_dim': 8\n",
    "                },\n",
    "            },\n",
    "            verbose=0)\n",
    "\n",
    "model"
   ]
  },
  {
   "cell_type": "code",
   "execution_count": 4,
   "metadata": {
    "ExecuteTime": {
     "start_time": "2024-04-14T17:39:04.457983Z",
     "end_time": "2024-04-14T17:39:05.112392Z"
    }
   },
   "outputs": [
    {
     "name": "stderr",
     "output_type": "stream",
     "text": [
      "C:\\ProgramData\\miniconda3\\envs\\RoadNetOpt\\lib\\site-packages\\stable_baselines3\\common\\evaluation.py:67: UserWarning: Evaluation environment is not wrapped with a ``Monitor`` wrapper. This may result in reporting modified episode lengths and rewards, if other wrappers happen to modify these. Consider wrapping environment first with ``Monitor`` wrapper.\n",
      "  warnings.warn(\n"
     ]
    },
    {
     "data": {
      "text/plain": "(24.5, 10.433120338613946)"
     },
     "execution_count": 4,
     "metadata": {},
     "output_type": "execute_result"
    }
   ],
   "source": [
    "from stable_baselines3.common.evaluation import evaluate_policy\n",
    "\n",
    "#测试\n",
    "evaluate_policy(model, env, n_eval_episodes=10, deterministic=False)"
   ]
  },
  {
   "cell_type": "code",
   "execution_count": 5,
   "metadata": {
    "scrolled": true
   },
   "outputs": [
    {
     "data": {
      "application/vnd.jupyter.widget-view+json": {
       "model_id": "03671d25c8ca4e04a614ad63f371002a",
       "version_major": 2,
       "version_minor": 0
      },
      "text/plain": [
       "Output()"
      ]
     },
     "metadata": {},
     "output_type": "display_data"
    },
    {
     "data": {
      "text/html": [
       "<pre style=\"white-space:pre;overflow-x:auto;line-height:normal;font-family:Menlo,'DejaVu Sans Mono',consolas,'Courier New',monospace\"></pre>\n"
      ],
      "text/plain": []
     },
     "metadata": {},
     "output_type": "display_data"
    },
    {
     "data": {
      "text/html": [
       "<pre style=\"white-space:pre;overflow-x:auto;line-height:normal;font-family:Menlo,'DejaVu Sans Mono',consolas,'Courier New',monospace\">\n",
       "</pre>\n"
      ],
      "text/plain": [
       "\n"
      ]
     },
     "metadata": {},
     "output_type": "display_data"
    }
   ],
   "source": [
    "#训练\n",
    "model.learn(total_timesteps=2_0000, progress_bar=True)\n",
    "\n",
    "model.save('models/自定义特征抽取层')"
   ]
  },
  {
   "cell_type": "code",
   "execution_count": 5,
   "metadata": {
    "id": "zpz8kHlt_a_m",
    "ExecuteTime": {
     "start_time": "2024-04-14T17:39:15.384366Z",
     "end_time": "2024-04-14T17:39:19.743194Z"
    }
   },
   "outputs": [
    {
     "name": "stderr",
     "output_type": "stream",
     "text": [
      "C:\\ProgramData\\miniconda3\\envs\\RoadNetOpt\\lib\\site-packages\\torch\\_utils.py:831: UserWarning: TypedStorage is deprecated. It will be removed in the future and UntypedStorage will be the only storage class. This should only matter to you if you are using storages directly.  To access UntypedStorage directly, use tensor.untyped_storage() instead of tensor.storage()\n",
      "  return self.fget.__get__(instance, owner)()\n",
      "C:\\ProgramData\\miniconda3\\envs\\RoadNetOpt\\lib\\site-packages\\stable_baselines3\\common\\vec_env\\patch_gym.py:95: UserWarning: You loaded a model that was trained using OpenAI Gym. We strongly recommend transitioning to Gymnasium by saving that model again.\n",
      "  warnings.warn(\n"
     ]
    },
    {
     "data": {
      "text/plain": "(364.7, 133.57997604431586)"
     },
     "execution_count": 5,
     "metadata": {},
     "output_type": "execute_result"
    }
   ],
   "source": [
    "model = PPO.load('models/自定义特征抽取层')\n",
    "\n",
    "evaluate_policy(model, env, n_eval_episodes=10, deterministic=False)"
   ]
  },
  {
   "cell_type": "code",
   "execution_count": null,
   "outputs": [],
   "source": [],
   "metadata": {
    "collapsed": false
   }
  }
 ],
 "metadata": {
  "accelerator": "GPU",
  "colab": {
   "collapsed_sections": [],
   "include_colab_link": true,
   "name": "Copie de Unit 1: Train your first Deep Reinforcement Learning Agent 🚀.ipynb",
   "private_outputs": true,
   "provenance": []
  },
  "gpuClass": "standard",
  "kernelspec": {
   "display_name": "Python 3 (ipykernel)",
   "language": "python",
   "name": "python3"
  },
  "language_info": {
   "codemirror_mode": {
    "name": "ipython",
    "version": 3
   },
   "file_extension": ".py",
   "mimetype": "text/x-python",
   "name": "python",
   "nbconvert_exporter": "python",
   "pygments_lexer": "ipython3",
   "version": "3.9.15"
  },
  "vscode": {
   "interpreter": {
    "hash": "ed7f8024e43d3b8f5ca3c5e1a8151ab4d136b3ecee1e3fd59e0766ccc55e1b10"
   }
  }
 },
 "nbformat": 4,
 "nbformat_minor": 1
}
