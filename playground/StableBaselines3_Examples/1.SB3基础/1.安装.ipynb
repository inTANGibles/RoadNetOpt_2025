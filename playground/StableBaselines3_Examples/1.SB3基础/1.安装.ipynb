{
 "cells": [
  {
   "cell_type": "code",
   "execution_count": 1,
   "id": "5ea1f438",
   "metadata": {},
   "outputs": [
    {
     "ename": "ModuleNotFoundError",
     "evalue": "No module named 'stable_baselines3'",
     "output_type": "error",
     "traceback": [
      "\u001B[1;31m---------------------------------------------------------------------------\u001B[0m",
      "\u001B[1;31mModuleNotFoundError\u001B[0m                       Traceback (most recent call last)",
      "Cell \u001B[1;32mIn[1], line 13\u001B[0m\n\u001B[0;32m      1\u001B[0m \u001B[38;5;66;03m#环境要求\u001B[39;00m\n\u001B[0;32m      2\u001B[0m \u001B[38;5;66;03m#python 3.9\u001B[39;00m\n\u001B[0;32m      3\u001B[0m \u001B[38;5;66;03m#PyTorch >= 1.11\u001B[39;00m\n\u001B[1;32m   (...)\u001B[0m\n\u001B[0;32m     11\u001B[0m \n\u001B[0;32m     12\u001B[0m \u001B[38;5;66;03m#测试\u001B[39;00m\n\u001B[1;32m---> 13\u001B[0m \u001B[38;5;28;01mimport\u001B[39;00m \u001B[38;5;21;01mstable_baselines3\u001B[39;00m \u001B[38;5;28;01mas\u001B[39;00m \u001B[38;5;21;01msb3\u001B[39;00m\n\u001B[0;32m     14\u001B[0m \u001B[38;5;28;01mimport\u001B[39;00m \u001B[38;5;21;01mgym\u001B[39;00m\n\u001B[0;32m     16\u001B[0m sb3\u001B[38;5;241m.\u001B[39m__version__, gym\u001B[38;5;241m.\u001B[39m__version__\n",
      "\u001B[1;31mModuleNotFoundError\u001B[0m: No module named 'stable_baselines3'"
     ]
    }
   ],
   "source": [
    "#环境要求\n",
    "#python 3.9\n",
    "#PyTorch >= 1.11\n",
    "\n",
    "#二选一即可\n",
    "#!pip install stable-baselines3[extra]\n",
    "#!pip install git+https://github.com/DLR-RM/stable-baselines3\n",
    "\n",
    "#建议使用0.26.2版本的gym\n",
    "#!pip install gym==0.26.2\n",
    "\n",
    "#测试\n",
    "import stable_baselines3 as sb3\n",
    "import gym\n",
    "\n",
    "sb3.__version__, gym.__version__"
   ]
  },
  {
   "cell_type": "code",
   "execution_count": null,
   "outputs": [],
   "source": [],
   "metadata": {
    "collapsed": false
   }
  }
 ],
 "metadata": {
  "kernelspec": {
   "display_name": "Python 3 (ipykernel)",
   "language": "python",
   "name": "python3"
  },
  "language_info": {
   "codemirror_mode": {
    "name": "ipython",
    "version": 3
   },
   "file_extension": ".py",
   "mimetype": "text/x-python",
   "name": "python",
   "nbconvert_exporter": "python",
   "pygments_lexer": "ipython3",
   "version": "3.9.15"
  }
 },
 "nbformat": 4,
 "nbformat_minor": 5
}
